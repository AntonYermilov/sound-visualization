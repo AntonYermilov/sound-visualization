{
  "nbformat": 4,
  "nbformat_minor": 0,
  "metadata": {
    "kernelspec": {
      "name": "python3",
      "display_name": "Python 3"
    },
    "language_info": {
      "codemirror_mode": {
        "name": "ipython",
        "version": 3
      },
      "file_extension": ".py",
      "mimetype": "text/x-python",
      "name": "python",
      "nbconvert_exporter": "python",
      "pygments_lexer": "ipython3",
      "version": "3.5.4"
    },
    "colab": {
      "name": "GAN.ipynb",
      "provenance": [],
      "include_colab_link": true
    },
    "accelerator": "GPU"
  },
  "cells": [
    {
      "cell_type": "markdown",
      "metadata": {
        "id": "view-in-github",
        "colab_type": "text"
      },
      "source": [
        "<a href=\"https://colab.research.google.com/github/AntonYermilov/sound-visualization/blob/master/GAN.ipynb\" target=\"_parent\"><img src=\"https://colab.research.google.com/assets/colab-badge.svg\" alt=\"Open In Colab\"/></a>"
      ]
    },
    {
      "cell_type": "code",
      "metadata": {
        "id": "YO9QPpiTv7mB",
        "colab_type": "code",
        "colab": {}
      },
      "source": [
        "# prerequisites\n",
        "import torch\n",
        "import torch.nn as nn\n",
        "import torch.nn.functional as F\n",
        "import torch.optim as optim\n",
        "from torchvision import datasets, transforms\n",
        "from torch.autograd import Variable\n",
        "from torchvision.utils import save_image\n",
        "from torchvision import transforms\n",
        "import numpy as np\n",
        "# Device configuration\n",
        "device = torch.device('cuda' if torch.cuda.is_available() else 'cpu')"
      ],
      "execution_count": 0,
      "outputs": []
    },
    {
      "cell_type": "code",
      "metadata": {
        "id": "J-WuTIhUv7mF",
        "colab_type": "code",
        "colab": {
          "base_uri": "https://localhost:8080/",
          "height": 275
        },
        "outputId": "33a96f78-2f77-466b-b951-f903dd9983ca"
      },
      "source": [
        "bs = 100\n",
        "\n",
        "# MNIST Dataset\n",
        "transform = transforms.Compose([\n",
        "    transforms.ToTensor()])\n",
        "\n",
        "train_dataset = datasets.MNIST(root='./mnist_data/', train=True, transform=transform, download=True)\n",
        "test_dataset = datasets.MNIST(root='./mnist_data/', train=False, transform=transform, download=False)\n",
        "\n",
        "# Data Loader (Input Pipeline)\n",
        "train_loader = torch.utils.data.DataLoader(dataset=train_dataset, batch_size=bs, shuffle=True)\n",
        "test_loader = torch.utils.data.DataLoader(dataset=test_dataset, batch_size=bs, shuffle=False)"
      ],
      "execution_count": 2,
      "outputs": [
        {
          "output_type": "stream",
          "text": [
            "\r0it [00:00, ?it/s]"
          ],
          "name": "stderr"
        },
        {
          "output_type": "stream",
          "text": [
            "Downloading http://yann.lecun.com/exdb/mnist/train-images-idx3-ubyte.gz to ./mnist_data/MNIST/raw/train-images-idx3-ubyte.gz\n"
          ],
          "name": "stdout"
        },
        {
          "output_type": "stream",
          "text": [
            "9920512it [00:01, 9014970.73it/s]                            \n"
          ],
          "name": "stderr"
        },
        {
          "output_type": "stream",
          "text": [
            "Extracting ./mnist_data/MNIST/raw/train-images-idx3-ubyte.gz to ./mnist_data/MNIST/raw\n"
          ],
          "name": "stdout"
        },
        {
          "output_type": "stream",
          "text": [
            "  0%|          | 0/28881 [00:00<?, ?it/s]"
          ],
          "name": "stderr"
        },
        {
          "output_type": "stream",
          "text": [
            "Downloading http://yann.lecun.com/exdb/mnist/train-labels-idx1-ubyte.gz to ./mnist_data/MNIST/raw/train-labels-idx1-ubyte.gz\n"
          ],
          "name": "stdout"
        },
        {
          "output_type": "stream",
          "text": [
            "32768it [00:00, 137026.50it/s]           \n",
            "  0%|          | 0/1648877 [00:00<?, ?it/s]"
          ],
          "name": "stderr"
        },
        {
          "output_type": "stream",
          "text": [
            "Extracting ./mnist_data/MNIST/raw/train-labels-idx1-ubyte.gz to ./mnist_data/MNIST/raw\n",
            "Downloading http://yann.lecun.com/exdb/mnist/t10k-images-idx3-ubyte.gz to ./mnist_data/MNIST/raw/t10k-images-idx3-ubyte.gz\n"
          ],
          "name": "stdout"
        },
        {
          "output_type": "stream",
          "text": [
            "1654784it [00:00, 2334121.66it/s]                            \n",
            "0it [00:00, ?it/s]"
          ],
          "name": "stderr"
        },
        {
          "output_type": "stream",
          "text": [
            "Extracting ./mnist_data/MNIST/raw/t10k-images-idx3-ubyte.gz to ./mnist_data/MNIST/raw\n",
            "Downloading http://yann.lecun.com/exdb/mnist/t10k-labels-idx1-ubyte.gz to ./mnist_data/MNIST/raw/t10k-labels-idx1-ubyte.gz\n"
          ],
          "name": "stdout"
        },
        {
          "output_type": "stream",
          "text": [
            "8192it [00:00, 52475.08it/s]            "
          ],
          "name": "stderr"
        },
        {
          "output_type": "stream",
          "text": [
            "Extracting ./mnist_data/MNIST/raw/t10k-labels-idx1-ubyte.gz to ./mnist_data/MNIST/raw\n",
            "Processing...\n",
            "Done!\n"
          ],
          "name": "stdout"
        },
        {
          "output_type": "stream",
          "text": [
            "\n"
          ],
          "name": "stderr"
        }
      ]
    },
    {
      "cell_type": "code",
      "metadata": {
        "id": "rjP0fururHBA",
        "colab_type": "code",
        "colab": {}
      },
      "source": [
        "\n"
      ],
      "execution_count": 0,
      "outputs": []
    },
    {
      "cell_type": "code",
      "metadata": {
        "id": "ENu1lQr_oU8U",
        "colab_type": "code",
        "colab": {}
      },
      "source": [
        "def gray_image_target_eval(x):\n",
        "    return x.mean(1) * 2 - 0.28"
      ],
      "execution_count": 0,
      "outputs": []
    },
    {
      "cell_type": "code",
      "metadata": {
        "id": "NkQCJqcim7do",
        "colab_type": "code",
        "colab": {}
      },
      "source": [
        "class Generator(nn.Module):\n",
        "    def __init__(self, g_input_dim, g_output_dim, target_evaluator):\n",
        "        super(Generator, self).__init__()\n",
        "        self.target_evaluator = target_evaluator       \n",
        "        self.fc1 = nn.Linear(g_input_dim, 256)\n",
        "        self.fc2 = nn.Linear(self.fc1.out_features, self.fc1.out_features*2)\n",
        "        self.fc3 = nn.Linear(self.fc2.out_features, self.fc2.out_features*2)\n",
        "        self.fc4 = nn.Linear(self.fc3.out_features, g_output_dim)\n",
        "    \n",
        "    def forward(self, x): \n",
        "        x = F.leaky_relu(self.fc1(x), 0.2)\n",
        "        x = F.leaky_relu(self.fc2(x), 0.2)\n",
        "        x = F.leaky_relu(self.fc3(x), 0.2)\n",
        "        x = self.fc4(x)\n",
        "        target = self.target_evaluator(x)\n",
        "        return torch.tanh(x), target"
      ],
      "execution_count": 0,
      "outputs": []
    },
    {
      "cell_type": "code",
      "metadata": {
        "id": "8wAwMpOlv7mI",
        "colab_type": "code",
        "colab": {}
      },
      "source": [
        "class Discriminator(nn.Module):\n",
        "    def __init__(self, d_input_dim):\n",
        "        super(Discriminator, self).__init__()\n",
        "        self.fc1 = nn.Linear(d_input_dim, 1024)\n",
        "        self.fc2 = nn.Linear(self.fc1.out_features, self.fc1.out_features//2)\n",
        "        self.fc3 = nn.Linear(self.fc2.out_features, self.fc2.out_features//2)\n",
        "        self.fc4 = nn.Linear(self.fc3.out_features, 1)\n",
        "    \n",
        "    def forward(self, x):\n",
        "        x = F.leaky_relu(self.fc1(x), 0.2)\n",
        "        x = F.dropout(x, 0.3)\n",
        "        x = F.leaky_relu(self.fc2(x), 0.2)\n",
        "        x = F.dropout(x, 0.3)\n",
        "        x = F.leaky_relu(self.fc3(x), 0.2)\n",
        "        x = F.dropout(x, 0.3)\n",
        "        return torch.sigmoid(self.fc4(x))"
      ],
      "execution_count": 0,
      "outputs": []
    },
    {
      "cell_type": "code",
      "metadata": {
        "id": "cD7znOK4v7mM",
        "colab_type": "code",
        "outputId": "6685e2fd-12a0-471e-faa9-0455e43aa5f7",
        "colab": {
          "base_uri": "https://localhost:8080/",
          "height": 71
        }
      },
      "source": [
        "z_dim = 32\n",
        "mnist_dim = train_dataset.train_data.size(1) * train_dataset.train_data.size(2)\n",
        "G = Generator(g_input_dim = z_dim, g_output_dim = mnist_dim, target_evaluator=gray_image_target_eval).to(device)\n",
        "D = Discriminator(mnist_dim).to(device)"
      ],
      "execution_count": 118,
      "outputs": [
        {
          "output_type": "stream",
          "text": [
            "/usr/local/lib/python3.6/dist-packages/torchvision/datasets/mnist.py:53: UserWarning: train_data has been renamed data\n",
            "  warnings.warn(\"train_data has been renamed data\")\n"
          ],
          "name": "stderr"
        }
      ]
    },
    {
      "cell_type": "code",
      "metadata": {
        "id": "Rkv2Bx5Dv7mO",
        "colab_type": "code",
        "outputId": "6275f532-5194-4237-d2c0-248dc44bc623",
        "colab": {
          "base_uri": "https://localhost:8080/",
          "height": 119
        }
      },
      "source": [
        "G"
      ],
      "execution_count": 103,
      "outputs": [
        {
          "output_type": "execute_result",
          "data": {
            "text/plain": [
              "Generator(\n",
              "  (fc1): Linear(in_features=32, out_features=256, bias=True)\n",
              "  (fc2): Linear(in_features=256, out_features=512, bias=True)\n",
              "  (fc3): Linear(in_features=512, out_features=1024, bias=True)\n",
              "  (fc4): Linear(in_features=1024, out_features=784, bias=True)\n",
              ")"
            ]
          },
          "metadata": {
            "tags": []
          },
          "execution_count": 103
        }
      ]
    },
    {
      "cell_type": "code",
      "metadata": {
        "id": "IfFceH6Mv7mS",
        "colab_type": "code",
        "outputId": "9f8a8cc4-e38f-4d68-8d8d-a57c1c546145",
        "colab": {
          "base_uri": "https://localhost:8080/",
          "height": 119
        }
      },
      "source": [
        "D"
      ],
      "execution_count": 69,
      "outputs": [
        {
          "output_type": "execute_result",
          "data": {
            "text/plain": [
              "Discriminator(\n",
              "  (fc1): Linear(in_features=784, out_features=1024, bias=True)\n",
              "  (fc2): Linear(in_features=1024, out_features=512, bias=True)\n",
              "  (fc3): Linear(in_features=512, out_features=256, bias=True)\n",
              "  (fc4): Linear(in_features=256, out_features=1, bias=True)\n",
              ")"
            ]
          },
          "metadata": {
            "tags": []
          },
          "execution_count": 69
        }
      ]
    },
    {
      "cell_type": "code",
      "metadata": {
        "id": "pMgkPUTDv7mV",
        "colab_type": "code",
        "colab": {}
      },
      "source": [
        "\n",
        "criterion = nn.BCELoss() \n",
        "\n",
        "lr = 0.0002 \n",
        "G_optimizer = optim.Adam(G.parameters(), lr = lr)\n",
        "D_optimizer = optim.Adam(D.parameters(), lr = lr)"
      ],
      "execution_count": 0,
      "outputs": []
    },
    {
      "cell_type": "code",
      "metadata": {
        "id": "A3_c61G5v7mX",
        "colab_type": "code",
        "colab": {}
      },
      "source": [
        "def D_train(x):\n",
        "    D.zero_grad()\n",
        "\n",
        "    # train discriminator on real\n",
        "    x_real, y_real = x.view(-1, mnist_dim), torch.ones(bs, 1)\n",
        "    x_real, y_real = Variable(x_real.to(device)), Variable(y_real.to(device))\n",
        "\n",
        "    D_output = D(x_real)\n",
        "    D_real_loss = criterion(D_output, y_real)\n",
        "    D_real_score = D_output\n",
        "\n",
        "    # train discriminator on facke\n",
        "    z = Variable(torch.randn(bs, z_dim).to(device))\n",
        "    x_fake, _ = G(z)\n",
        "    y_fake = Variable(torch.zeros(bs, 1).to(device))\n",
        "\n",
        "    D_output = D(x_fake)\n",
        "    D_fake_loss = criterion(D_output, y_fake)\n",
        "    D_fake_score = D_output\n",
        "\n",
        "    # gradient backprop & optimize ONLY D's parameters\n",
        "    D_loss = D_real_loss + D_fake_loss\n",
        "    D_loss.backward()\n",
        "    D_optimizer.step()\n",
        "        \n",
        "    return  D_loss.data.item()"
      ],
      "execution_count": 0,
      "outputs": []
    },
    {
      "cell_type": "code",
      "metadata": {
        "id": "3Vulr1RWv7ma",
        "colab_type": "code",
        "colab": {}
      },
      "source": [
        "def G_train(x):\n",
        "    G.zero_grad()\n",
        "\n",
        "    z = Variable(torch.randn(bs, z_dim).to(device))\n",
        "    y = Variable(torch.ones(bs, 1).to(device))\n",
        "\n",
        "    G_output, _ = G(z)\n",
        "    D_output = D(G_output)\n",
        "    G_loss = criterion(D_output, y)\n",
        "\n",
        "    # gradient backprop & optimize ONLY G's parameters\n",
        "    G_loss.backward()\n",
        "    G_optimizer.step()\n",
        "        \n",
        "    return G_loss.data.item()"
      ],
      "execution_count": 0,
      "outputs": []
    },
    {
      "cell_type": "code",
      "metadata": {
        "scrolled": true,
        "id": "J6y_eW_5v7mb",
        "colab_type": "code",
        "outputId": "310af1da-cbfe-47a6-91d0-ded8bfb9ddff",
        "colab": {
          "base_uri": "https://localhost:8080/",
          "height": 1000
        }
      },
      "source": [
        "n_epoch = 100\n",
        "for epoch in range(1, n_epoch+1):           \n",
        "    D_losses, G_losses = [], []\n",
        "    for batch_idx, (x, _) in enumerate(train_loader):\n",
        "        D_losses.append(D_train(x))\n",
        "        G_losses.append(G_train(x))\n",
        "\n",
        "    print('[%d/%d]: loss_d: %.3f, loss_g: %.3f' % (\n",
        "            (epoch), n_epoch, torch.mean(torch.FloatTensor(D_losses)), torch.mean(torch.FloatTensor(G_losses))))"
      ],
      "execution_count": 121,
      "outputs": [
        {
          "output_type": "stream",
          "text": [
            "[1/100]: loss_d: 1.135, loss_g: 2.474\n",
            "[2/100]: loss_d: 0.776, loss_g: 2.611\n",
            "[3/100]: loss_d: 0.724, loss_g: 2.494\n",
            "[4/100]: loss_d: 0.795, loss_g: 2.124\n",
            "[5/100]: loss_d: 0.711, loss_g: 2.320\n",
            "[6/100]: loss_d: 0.717, loss_g: 2.261\n",
            "[7/100]: loss_d: 0.820, loss_g: 2.016\n",
            "[8/100]: loss_d: 0.753, loss_g: 2.096\n",
            "[9/100]: loss_d: 0.764, loss_g: 1.923\n",
            "[10/100]: loss_d: 0.762, loss_g: 1.969\n",
            "[11/100]: loss_d: 0.756, loss_g: 2.017\n",
            "[12/100]: loss_d: 0.780, loss_g: 1.959\n",
            "[13/100]: loss_d: 0.746, loss_g: 2.041\n",
            "[14/100]: loss_d: 0.775, loss_g: 1.995\n",
            "[15/100]: loss_d: 0.747, loss_g: 2.132\n",
            "[16/100]: loss_d: 0.677, loss_g: 2.289\n",
            "[17/100]: loss_d: 0.670, loss_g: 2.305\n",
            "[18/100]: loss_d: 0.675, loss_g: 2.195\n",
            "[19/100]: loss_d: 0.697, loss_g: 2.124\n",
            "[20/100]: loss_d: 0.693, loss_g: 2.103\n",
            "[21/100]: loss_d: 0.712, loss_g: 2.079\n",
            "[22/100]: loss_d: 0.723, loss_g: 2.177\n",
            "[23/100]: loss_d: 0.662, loss_g: 2.222\n",
            "[24/100]: loss_d: 0.624, loss_g: 2.475\n",
            "[25/100]: loss_d: 0.604, loss_g: 2.418\n",
            "[26/100]: loss_d: 0.600, loss_g: 2.431\n",
            "[27/100]: loss_d: 0.593, loss_g: 2.435\n",
            "[28/100]: loss_d: 0.566, loss_g: 2.709\n",
            "[29/100]: loss_d: 0.590, loss_g: 2.508\n",
            "[30/100]: loss_d: 0.563, loss_g: 2.590\n",
            "[31/100]: loss_d: 0.546, loss_g: 2.686\n",
            "[32/100]: loss_d: 0.527, loss_g: 2.706\n",
            "[33/100]: loss_d: 0.505, loss_g: 2.827\n",
            "[34/100]: loss_d: 0.463, loss_g: 2.965\n",
            "[35/100]: loss_d: 0.455, loss_g: 3.053\n",
            "[36/100]: loss_d: 0.462, loss_g: 3.060\n",
            "[37/100]: loss_d: 0.442, loss_g: 2.971\n",
            "[38/100]: loss_d: 0.439, loss_g: 3.014\n",
            "[39/100]: loss_d: 0.434, loss_g: 3.080\n",
            "[40/100]: loss_d: 0.423, loss_g: 3.142\n",
            "[41/100]: loss_d: 0.400, loss_g: 3.264\n",
            "[42/100]: loss_d: 0.400, loss_g: 3.265\n",
            "[43/100]: loss_d: 0.369, loss_g: 3.377\n",
            "[44/100]: loss_d: 0.371, loss_g: 3.444\n",
            "[45/100]: loss_d: 0.385, loss_g: 3.349\n",
            "[46/100]: loss_d: 0.359, loss_g: 3.481\n",
            "[47/100]: loss_d: 0.353, loss_g: 3.474\n",
            "[48/100]: loss_d: 0.344, loss_g: 3.597\n",
            "[49/100]: loss_d: 0.352, loss_g: 3.549\n",
            "[50/100]: loss_d: 0.340, loss_g: 3.600\n",
            "[51/100]: loss_d: 0.347, loss_g: 3.588\n",
            "[52/100]: loss_d: 0.338, loss_g: 3.631\n",
            "[53/100]: loss_d: 0.311, loss_g: 3.729\n",
            "[54/100]: loss_d: 0.319, loss_g: 3.764\n",
            "[55/100]: loss_d: 0.302, loss_g: 3.798\n",
            "[56/100]: loss_d: 0.306, loss_g: 3.881\n",
            "[57/100]: loss_d: 0.291, loss_g: 4.015\n",
            "[58/100]: loss_d: 0.291, loss_g: 3.938\n",
            "[59/100]: loss_d: 0.296, loss_g: 3.970\n",
            "[60/100]: loss_d: 0.290, loss_g: 3.939\n",
            "[61/100]: loss_d: 0.277, loss_g: 3.997\n",
            "[62/100]: loss_d: 0.267, loss_g: 4.122\n",
            "[63/100]: loss_d: 0.266, loss_g: 4.226\n",
            "[64/100]: loss_d: 0.257, loss_g: 4.107\n",
            "[65/100]: loss_d: 0.269, loss_g: 4.218\n",
            "[66/100]: loss_d: 0.261, loss_g: 4.224\n",
            "[67/100]: loss_d: 0.263, loss_g: 4.261\n",
            "[68/100]: loss_d: 0.254, loss_g: 4.262\n",
            "[69/100]: loss_d: 0.250, loss_g: 4.327\n",
            "[70/100]: loss_d: 0.264, loss_g: 4.215\n",
            "[71/100]: loss_d: 0.270, loss_g: 4.287\n",
            "[72/100]: loss_d: 0.254, loss_g: 4.309\n",
            "[73/100]: loss_d: 0.254, loss_g: 4.366\n",
            "[74/100]: loss_d: 0.258, loss_g: 4.271\n",
            "[75/100]: loss_d: 0.246, loss_g: 4.426\n",
            "[76/100]: loss_d: 0.245, loss_g: 4.326\n",
            "[77/100]: loss_d: 0.249, loss_g: 4.360\n",
            "[78/100]: loss_d: 0.259, loss_g: 4.335\n",
            "[79/100]: loss_d: 0.253, loss_g: 4.333\n",
            "[80/100]: loss_d: 0.252, loss_g: 4.382\n",
            "[81/100]: loss_d: 0.261, loss_g: 4.390\n",
            "[82/100]: loss_d: 0.257, loss_g: 4.256\n",
            "[83/100]: loss_d: 0.244, loss_g: 4.506\n",
            "[84/100]: loss_d: 0.248, loss_g: 4.278\n",
            "[85/100]: loss_d: 0.255, loss_g: 4.381\n",
            "[86/100]: loss_d: 0.244, loss_g: 4.519\n",
            "[87/100]: loss_d: 0.248, loss_g: 4.414\n",
            "[88/100]: loss_d: 0.244, loss_g: 4.550\n",
            "[89/100]: loss_d: 0.243, loss_g: 4.413\n",
            "[90/100]: loss_d: 0.227, loss_g: 4.590\n",
            "[91/100]: loss_d: 0.233, loss_g: 4.596\n",
            "[92/100]: loss_d: 0.224, loss_g: 4.620\n",
            "[93/100]: loss_d: 0.238, loss_g: 4.496\n",
            "[94/100]: loss_d: 0.235, loss_g: 4.535\n",
            "[95/100]: loss_d: 0.242, loss_g: 4.503\n",
            "[96/100]: loss_d: 0.241, loss_g: 4.624\n",
            "[97/100]: loss_d: 0.241, loss_g: 4.419\n",
            "[98/100]: loss_d: 0.227, loss_g: 4.443\n",
            "[99/100]: loss_d: 0.234, loss_g: 4.681\n",
            "[100/100]: loss_d: 0.234, loss_g: 4.467\n"
          ],
          "name": "stdout"
        }
      ]
    },
    {
      "cell_type": "code",
      "metadata": {
        "id": "TNPDDEVkv7md",
        "colab_type": "code",
        "colab": {}
      },
      "source": [
        "with torch.no_grad():\n",
        "    test_z = Variable(torch.randn(bs, z_dim).to(device))\n",
        "    generated, _ = G(test_z)\n",
        "\n",
        "    save_image(generated.view(generated.size(0), 1, 28, 28), './sample_' + '.png')"
      ],
      "execution_count": 0,
      "outputs": []
    },
    {
      "cell_type": "code",
      "metadata": {
        "id": "7klH_Ymdv7mg",
        "colab_type": "code",
        "colab": {}
      },
      "source": [
        "torch.save(G.state_dict(), \"G100.pt\")"
      ],
      "execution_count": 0,
      "outputs": []
    }
  ]
}