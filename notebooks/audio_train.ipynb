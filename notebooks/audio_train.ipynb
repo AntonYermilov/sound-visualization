{
 "cells": [
  {
   "cell_type": "code",
   "execution_count": 1,
   "metadata": {},
   "outputs": [],
   "source": [
    "import os\n",
    "from pathlib import Path\n",
    "os.chdir(Path('.').absolute().parent)"
   ]
  },
  {
   "cell_type": "code",
   "execution_count": 2,
   "metadata": {},
   "outputs": [],
   "source": [
    "import torch\n",
    "import torch.nn as nn\n",
    "from torch.optim import Adam\n",
    "from torch.optim.lr_scheduler import StepLR\n",
    "from torch.utils.data import DataLoader, RandomSampler, SequentialSampler, random_split\n",
    "from tqdm.notebook import tqdm\n",
    "\n",
    "from audio.dataset import DEAMDataset\n",
    "from audio.model import AudioCNNEncoder\n",
    "from audio.model import AudioLSTMEncoder"
   ]
  },
  {
   "cell_type": "code",
   "execution_count": 3,
   "metadata": {},
   "outputs": [
    {
     "name": "stdout",
     "output_type": "stream",
     "text": [
      "device: cpu\n"
     ]
    }
   ],
   "source": [
    "device = torch.device('cuda' if torch.cuda.is_available() else 'cpu')\n",
    "print(f'device: {device}')"
   ]
  },
  {
   "cell_type": "code",
   "execution_count": 4,
   "metadata": {},
   "outputs": [],
   "source": [
    "dataset = DEAMDataset()\n",
    "dataset.load()"
   ]
  },
  {
   "cell_type": "code",
   "execution_count": 5,
   "metadata": {},
   "outputs": [
    {
     "name": "stdout",
     "output_type": "stream",
     "text": [
      "train: 45924, test: 11482\n"
     ]
    }
   ],
   "source": [
    "train_dataset, test_dataset = dataset.train_test_split(test_size=0.2)\n",
    "print(f'train: {len(train_dataset)}, test: {len(test_dataset)}')"
   ]
  },
  {
   "cell_type": "code",
   "execution_count": 6,
   "metadata": {},
   "outputs": [],
   "source": [
    "batch_size = 64\n",
    "\n",
    "train_sampler = RandomSampler(train_dataset)\n",
    "train_dataloader = DataLoader(train_dataset, sampler=train_sampler, batch_size=batch_size)\n",
    "\n",
    "test_sampler = SequentialSampler(test_dataset)\n",
    "test_dataloader = DataLoader(test_dataset, sampler=test_sampler, batch_size=batch_size)"
   ]
  },
  {
   "cell_type": "code",
   "execution_count": 7,
   "metadata": {},
   "outputs": [],
   "source": [
    "encoder = AudioCNNEncoder(n_frames=160, n_mfcc=40, n_out=64).to(device)\n",
    "predictor = nn.Linear(64, 1).to(device)\n",
    "\n",
    "optimizer = Adam([*encoder.parameters(), *predictor.parameters()], lr=0.0005, betas=(0.9, 0.999), eps=1e-8)\n",
    "scheduler = StepLR(optimizer, step_size=30, gamma=0.2)\n",
    "loss_fn = nn.MSELoss()"
   ]
  },
  {
   "cell_type": "code",
   "execution_count": 9,
   "metadata": {},
   "outputs": [
    {
     "data": {
      "application/vnd.jupyter.widget-view+json": {
       "model_id": "0267dcc3ed184131a38c14ca6120fb03",
       "version_major": 2,
       "version_minor": 0
      },
      "text/plain": [
       "HBox(children=(FloatProgress(value=0.0, max=3.0), HTML(value='')))"
      ]
     },
     "metadata": {},
     "output_type": "display_data"
    },
    {
     "name": "stdout",
     "output_type": "stream",
     "text": [
      "epoch=1,\ttrain_loss=0.05454583984636248,\ttest_loss=0.04660609892259041\n",
      "epoch=2,\ttrain_loss=0.04315651017747051,\ttest_loss=0.03865784530838331\n",
      "epoch=3,\ttrain_loss=0.03987751318748864,\ttest_loss=0.03816457819193601\n",
      "\n"
     ]
    }
   ],
   "source": [
    "epochs = 50\n",
    "\n",
    "for epoch in tqdm(range(epochs)):\n",
    "    train_loss, test_loss = 0, 0\n",
    "    \n",
    "    encoder.train()\n",
    "    predictor.train()\n",
    "    for i, batch in enumerate(train_dataloader):\n",
    "        batch = [tensor.to(device) for tensor in batch]\n",
    "        samples, targets = batch\n",
    "        targets = targets[:,0].reshape(-1,1)  # arousal target\n",
    "        \n",
    "        optimizer.zero_grad()\n",
    "\n",
    "        h = encoder(samples)\n",
    "        pred = predictor(h)\n",
    "\n",
    "        loss = loss_fn(pred, targets)\n",
    "        train_loss += loss.item()\n",
    "        \n",
    "        loss.backward()\n",
    "        optimizer.step()\n",
    "\n",
    "    encoder.eval()\n",
    "    predictor.eval()\n",
    "    for i, batch in enumerate(test_dataloader):\n",
    "        batch = [tensor.to(device) for tensor in batch]\n",
    "        samples, targets = batch\n",
    "        targets = targets[:,0].reshape(-1,1)  # arousal target\n",
    "        \n",
    "        with torch.no_grad():\n",
    "            h = encoder(samples)\n",
    "            pred = predictor(h)\n",
    "\n",
    "            loss = loss_fn(pred, targets)\n",
    "            test_loss += loss.item()\n",
    "    \n",
    "    scheduler.step()\n",
    "        \n",
    "    print(f'epoch={epoch+1},\\t'\n",
    "          f'train_loss={train_loss / len(train_dataloader)},\\t'\n",
    "          f'test_loss={test_loss / len(test_dataloader)}')"
   ]
  },
  {
   "cell_type": "code",
   "execution_count": null,
   "metadata": {},
   "outputs": [],
   "source": [
    "encoder = AudioLSTMEncoder(n_mfcc=40, n_hidden=256, n_out=32).to(device)\n",
    "predictor = Predictor(n_in=32, n_out=1).to(device)\n",
    "\n",
    "optimizer = Adam([*encoder.parameters(), *predictor.parameters()], lr=0.0005, betas=(0.9, 0.999), eps=1e-8)\n",
    "scheduler = StepLR(optimizer, step_size=15, gamma=0.2)\n",
    "loss_fn = nn.MSELoss()"
   ]
  },
  {
   "cell_type": "code",
   "execution_count": null,
   "metadata": {},
   "outputs": [],
   "source": []
  }
 ],
 "metadata": {
  "kernelspec": {
   "display_name": "sound-visualization",
   "language": "python",
   "name": "sound-visualization"
  },
  "language_info": {
   "codemirror_mode": {
    "name": "ipython",
    "version": 3
   },
   "file_extension": ".py",
   "mimetype": "text/x-python",
   "name": "python",
   "nbconvert_exporter": "python",
   "pygments_lexer": "ipython3",
   "version": "3.7.4"
  }
 },
 "nbformat": 4,
 "nbformat_minor": 2
}
