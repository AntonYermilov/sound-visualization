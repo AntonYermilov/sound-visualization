{
  "nbformat": 4,
  "nbformat_minor": 0,
  "metadata": {
    "colab": {
      "name": "multitask-autoencoder.ipynb",
      "provenance": [],
      "collapsed_sections": [],
      "include_colab_link": true
    },
    "kernelspec": {
      "name": "python3",
      "display_name": "Python 3"
    }
  },
  "cells": [
    {
      "cell_type": "markdown",
      "metadata": {
        "id": "view-in-github",
        "colab_type": "text"
      },
      "source": [
        "<a href=\"https://colab.research.google.com/github/AntonYermilov/sound-visualization/blob/autoencoder/multitask_autoencoder.ipynb\" target=\"_parent\"><img src=\"https://colab.research.google.com/assets/colab-badge.svg\" alt=\"Open In Colab\"/></a>"
      ]
    },
    {
      "cell_type": "code",
      "metadata": {
        "id": "WKGeeA401Sez",
        "colab_type": "code",
        "outputId": "70e41710-82c7-40de-8c2d-57f38abf745b",
        "colab": {
          "base_uri": "https://localhost:8080/",
          "height": 190
        }
      },
      "source": [
        "!pip install tensorboardX"
      ],
      "execution_count": 0,
      "outputs": [
        {
          "output_type": "stream",
          "text": [
            "Collecting tensorboardX\n",
            "\u001b[?25l  Downloading https://files.pythonhosted.org/packages/a6/5c/e918d9f190baab8d55bad52840d8091dd5114cc99f03eaa6d72d404503cc/tensorboardX-1.9-py2.py3-none-any.whl (190kB)\n",
            "\r\u001b[K     |█▊                              | 10kB 20.0MB/s eta 0:00:01\r\u001b[K     |███▍                            | 20kB 1.8MB/s eta 0:00:01\r\u001b[K     |█████▏                          | 30kB 2.6MB/s eta 0:00:01\r\u001b[K     |██████▉                         | 40kB 1.7MB/s eta 0:00:01\r\u001b[K     |████████▋                       | 51kB 2.2MB/s eta 0:00:01\r\u001b[K     |██████████▎                     | 61kB 2.6MB/s eta 0:00:01\r\u001b[K     |████████████                    | 71kB 3.0MB/s eta 0:00:01\r\u001b[K     |█████████████▊                  | 81kB 3.4MB/s eta 0:00:01\r\u001b[K     |███████████████▌                | 92kB 3.8MB/s eta 0:00:01\r\u001b[K     |█████████████████▏              | 102kB 2.9MB/s eta 0:00:01\r\u001b[K     |███████████████████             | 112kB 2.9MB/s eta 0:00:01\r\u001b[K     |████████████████████▋           | 122kB 2.9MB/s eta 0:00:01\r\u001b[K     |██████████████████████▍         | 133kB 2.9MB/s eta 0:00:01\r\u001b[K     |████████████████████████        | 143kB 2.9MB/s eta 0:00:01\r\u001b[K     |█████████████████████████▊      | 153kB 2.9MB/s eta 0:00:01\r\u001b[K     |███████████████████████████▌    | 163kB 2.9MB/s eta 0:00:01\r\u001b[K     |█████████████████████████████▏  | 174kB 2.9MB/s eta 0:00:01\r\u001b[K     |███████████████████████████████ | 184kB 2.9MB/s eta 0:00:01\r\u001b[K     |████████████████████████████████| 194kB 2.9MB/s \n",
            "\u001b[?25hRequirement already satisfied: six in /usr/local/lib/python3.6/dist-packages (from tensorboardX) (1.12.0)\n",
            "Requirement already satisfied: numpy in /usr/local/lib/python3.6/dist-packages (from tensorboardX) (1.17.4)\n",
            "Requirement already satisfied: protobuf>=3.8.0 in /usr/local/lib/python3.6/dist-packages (from tensorboardX) (3.10.0)\n",
            "Requirement already satisfied: setuptools in /usr/local/lib/python3.6/dist-packages (from protobuf>=3.8.0->tensorboardX) (41.6.0)\n",
            "Installing collected packages: tensorboardX\n",
            "Successfully installed tensorboardX-1.9\n"
          ],
          "name": "stdout"
        }
      ]
    },
    {
      "cell_type": "code",
      "metadata": {
        "id": "ka1uClt40GMB",
        "colab_type": "code",
        "colab": {}
      },
      "source": [
        "import argparse\n",
        "import numpy as np\n",
        "import matplotlib.pyplot as plt\n",
        "import time\n",
        "import torch\n",
        "import torch.nn as nn\n",
        "import torch.nn.functional as F\n",
        "import torch.optim as optim\n",
        "import torchvision\n",
        "\n",
        "from tensorboardX import SummaryWriter\n",
        "from torchvision.datasets import MNIST"
      ],
      "execution_count": 0,
      "outputs": []
    },
    {
      "cell_type": "code",
      "metadata": {
        "id": "JpmTYHxo1vOK",
        "colab_type": "code",
        "colab": {}
      },
      "source": [
        "class AverageMeter(object):\n",
        "    \"\"\"Computes and stores the average and current value\"\"\"\n",
        "    def __init__(self):\n",
        "        self.reset()\n",
        "\n",
        "    def reset(self):\n",
        "        self.val = 0\n",
        "        self.avg = 0\n",
        "        self.sum = 0\n",
        "        self.count = 0\n",
        "\n",
        "    def update(self, val, n=1):\n",
        "        self.val = val\n",
        "        self.sum += val * n\n",
        "        self.count += n\n",
        "        self.avg = self.sum / self.count"
      ],
      "execution_count": 0,
      "outputs": []
    },
    {
      "cell_type": "code",
      "metadata": {
        "id": "_jnrLWdg2Bno",
        "colab_type": "code",
        "colab": {}
      },
      "source": [
        "@torch.no_grad()\n",
        "def calc_accuracy(output, target, topk=(1,)):\n",
        "    \"\"\"Computes the precision@k for the specified values of k\"\"\"\n",
        "    maxk = max(topk)\n",
        "    batch_size = target.size(0)\n",
        "\n",
        "    _, pred = output.topk(maxk, 1, True, True)\n",
        "    pred = pred.t()\n",
        "    correct = pred.eq(target.view(1, -1).expand_as(pred))\n",
        "\n",
        "    res = []\n",
        "    for k in topk:\n",
        "        correct_k = correct[:k].view(-1).float().sum(0, keepdim=True)\n",
        "        res.append(correct_k.mul_(100.0 / batch_size))\n",
        "    return res"
      ],
      "execution_count": 0,
      "outputs": []
    },
    {
      "cell_type": "code",
      "metadata": {
        "id": "I3-pfiMF1Q9L",
        "colab_type": "code",
        "colab": {}
      },
      "source": [
        "class Autoencoder(nn.Module):\n",
        "    def __init__(self, input_size=784, hidden_size=32, num_class=10):\n",
        "        super().__init__()\n",
        "        self.input_size = input_size\n",
        "        self.hidden_size = hidden_size\n",
        "        self.num_class = num_class\n",
        "\n",
        "        self.encoder = nn.Linear(self.input_size, self.hidden_size)\n",
        "        #self.encoder_mu = nn.Linear(self.hidden_size, 20)\n",
        "        #self.encoder_logvar = nn.Linear(self.hidden_size, 20)\n",
        "\n",
        "        self.decoder = nn.Linear(hidden_size, self.input_size)\n",
        "        self.classifier = nn.Linear(hidden_size, self.num_class)\n",
        "\n",
        "    def forward(self, x):\n",
        "        # получаем два векторных представления\n",
        "        hidden_state = F.relu(self.encoder(x.flatten(start_dim=1)))\n",
        "        \n",
        "        # склеили в один вектор\n",
        "        #z = self.reparameterize(mu, logvar)\n",
        "\n",
        "        logits = self.classifier(hidden_state)\n",
        "\n",
        "        reconstruction = self.decode(hidden_state)\n",
        "        reconstruction = reconstruction.view_as(x)\n",
        "\n",
        "        return logits, reconstruction #, mu, logvar\n",
        "\n",
        "    # берем картинку и переводим ее в вектор размера hidden_size\n",
        "    # полученный вектор переводим в вектор размера 20 двумя моделями\n",
        "    # первая модель для восстановления картинка\n",
        "    # вторая модель для определения тональности\n",
        "    def encode(self, x):\n",
        "        h = F.relu(self.encoder(x.flatten(start_dim=1)))\n",
        "        return self.encoder_mu(h), self.encoder_logvar(h)\n",
        "    \n",
        "    def reparameterize(self, mu, logvar):\n",
        "        std = F.softplus(logvar)\n",
        "        eps = torch.randn_like(std)\n",
        "        return mu + eps * std\n",
        "\n",
        "    def decode(self, z):\n",
        "        h = self.decoder(z)\n",
        "        return torch.sigmoid(h)\n",
        "\n",
        "    def classify(self, z):\n",
        "        return self.classifier(z)\n"
      ],
      "execution_count": 0,
      "outputs": []
    },
    {
      "cell_type": "code",
      "metadata": {
        "id": "5gvX43c_OfZu",
        "colab_type": "code",
        "colab": {}
      },
      "source": [
        "class Flatten(nn.Module):\n",
        "    def forward(self, x: torch.Tensor):\n",
        "        return x.flatten(start_dim=1)"
      ],
      "execution_count": 0,
      "outputs": []
    },
    {
      "cell_type": "code",
      "metadata": {
        "id": "PWlh1VrpQQ8P",
        "colab_type": "code",
        "colab": {}
      },
      "source": [
        "class FlattenDecoder(nn.Module):\n",
        "    def __init__(self, hidden_size):\n",
        "        super().__init__()\n",
        "        self.hidden_size = hidden_size\n",
        "    def forward(self, x: torch.Tensor):\n",
        "        return x.view(-1, self.hidden_size, 7, 7)"
      ],
      "execution_count": 0,
      "outputs": []
    },
    {
      "cell_type": "code",
      "metadata": {
        "id": "NmodZ6dOEiw_",
        "colab_type": "code",
        "colab": {}
      },
      "source": [
        "class ConvAutoencoder(nn.Module):\n",
        "    def __init__(self, hidden_size, num_class):\n",
        "        super().__init__()\n",
        "        self.hidden_size = hidden_size\n",
        "        self.num_class = num_class\n",
        "\n",
        "        self.encoder = nn.Sequential(\n",
        "            nn.Conv2d(1, self.hidden_size // 2, kernel_size=3, stride=2, padding=1),\n",
        "            nn.ReLU(),\n",
        "            nn.Conv2d(self.hidden_size // 2, self.hidden_size, kernel_size=3, stride=2, padding=1),\n",
        "            nn.ReLU(),\n",
        "            #nn.MaxPool2d(kernel_size=2),\n",
        "            nn.Dropout2d(0.07),\n",
        "            Flatten(),\n",
        "            nn.Linear(self.hidden_size * 7 * 7, self.hidden_size),\n",
        "            nn.Tanh()\n",
        "        )\n",
        "\n",
        "        \n",
        "        #self.encoder1 = nn.Conv2d(1, self.hidden_size // 2, kernel_size=3, stride=2, padding=1) # out: (16, 14, 14)\n",
        "        #self.encoder2 = nn.Conv2d(self.hidden_size // 2, self.hidden_size, kernel_size=3, stride=2, padding=1) # out: (32, 7, 7)\n",
        "        #self.encoder_mu = nn.Linear(self.hidden_size * 7 * 7, self.hidden_size)\n",
        "        #self.encoder_logvar = nn.Linear(self.hidden_size * 7 * 7, self.hidden_size)\n",
        "        #self.encoder3 = nn.Linear(self.hidden_size * 7 * 7, self.hidden_size)\n",
        "\n",
        "        self.decoder = nn.Sequential(\n",
        "            nn.Linear(self.hidden_size, self.hidden_size * 7 * 7),\n",
        "            FlattenDecoder(self.hidden_size),\n",
        "            nn.ReLU(),\n",
        "            nn.ConvTranspose2d(self.hidden_size, self.hidden_size // 2, kernel_size=4, stride=2, padding=1),\n",
        "            nn.ReLU(),\n",
        "            nn.ConvTranspose2d(self.hidden_size // 2, 1, kernel_size=4, stride=2, padding=1)\n",
        "        )\n",
        "\n",
        "        #self.decoder0 = nn.Linear(self.hidden_size, self.hidden_size * 7 * 7)\n",
        "        #self.decoder1 = nn.ConvTranspose2d(self.hidden_size, self.hidden_size // 2, kernel_size=4, stride=2, padding=1) # out: (16, 14, 14)\n",
        "        #self.decoder2 = nn.ConvTranspose2d(self.hidden_size // 2, 1, kernel_size=4, stride=2, padding=1) # out: (1, 28, 28)\n",
        "        \n",
        "        self.classifier = nn.Sequential(\n",
        "            nn.Linear(self.hidden_size, self.hidden_size),\n",
        "            nn.ReLU(),\n",
        "            nn.Linear(self.hidden_size, self.hidden_size),\n",
        "            nn.ReLU(),\n",
        "            nn.Linear(self.hidden_size, self.num_class)\n",
        "        )\n",
        "\n",
        "    def forward(self, x):\n",
        "        #h = F.relu(self.encoder1(x))\n",
        "        #h = F.relu(self.encoder2(h))\n",
        "        #h = h.flatten(start_dim=1)\n",
        "        #z = self.encoder3(h)\n",
        "        z = self.encoder(x)\n",
        "        #mu, logvar = self.encode(x)\n",
        "        #z = self.reparameterize(mu, logvar)\n",
        "\n",
        "        logits = self.classifier(z)\n",
        "        reconstruction = self.decode(z)\n",
        "\n",
        "        return logits, reconstruction #, mu, logvar\n",
        "\n",
        "    def encode(self, x):\n",
        "        #h = F.relu(self.encoder1(x))\n",
        "        #h = F.relu(self.encoder2(h))\n",
        "        #h = h.flatten(start_dim=1)\n",
        "        return self.encoder(x)\n",
        "\n",
        "    def decode(self, z):\n",
        "        #h = F.relu(self.decoder0(z).view(-1, self.hidden_size, 7, 7))\n",
        "        #h = F.relu(self.decoder1(h))\n",
        "        #h = self.decoder2(h)\n",
        "        return torch.sigmoid(self.decoder(z))\n",
        "\n",
        "    def classify(self, z):\n",
        "        return self.classifier(z)"
      ],
      "execution_count": 0,
      "outputs": []
    },
    {
      "cell_type": "code",
      "metadata": {
        "id": "Xcxuv4ol40q-",
        "colab_type": "code",
        "colab": {}
      },
      "source": [
        "def visualize(inputs, outputs, writer, train=True, step=0):\n",
        "    inputs_grid = torchvision.utils.make_grid(inputs)\n",
        "    outputs_grid = torchvision.utils.make_grid(outputs)\n",
        "\n",
        "    writer.add_image('{}/input'.format('train' if train else 'val'), inputs_grid, step)\n",
        "    writer.add_image('{}/output'.format('train' if train else 'val'), outputs_grid, step)"
      ],
      "execution_count": 0,
      "outputs": []
    },
    {
      "cell_type": "code",
      "metadata": {
        "id": "oAWhPiZH47PV",
        "colab_type": "code",
        "colab": {}
      },
      "source": [
        "def train(loader, model, optimizer, criterion, writer, epoch):\n",
        "    batch_time = AverageMeter()\n",
        "    data_time = AverageMeter()\n",
        "    losses = AverageMeter()\n",
        "    classification_losses = AverageMeter()\n",
        "    reconstruction_losses = AverageMeter()\n",
        "    kldivergence_losses = AverageMeter()\n",
        "    top1 = AverageMeter()\n",
        "    top5 = AverageMeter()\n",
        "\n",
        "    model.train()\n",
        "\n",
        "    total_iter = len(loader)\n",
        "    end = time.time()\n",
        "    for i, (inputs, targets) in enumerate(loader):\n",
        "        logits, reconstruction = model(inputs)\n",
        "\n",
        "        classification_criterion, reconstruction_criterion = criterion\n",
        "        classification_loss = classification_criterion(logits, targets)\n",
        "        reconstruction_loss = reconstruction_criterion(reconstruction, inputs)\n",
        "        #kldivergence_loss = -0.5 * torch.sum(1 + logvar - mu.pow(2) - logvar.exp())\n",
        "        total_loss = classification_loss + reconstruction_loss #+ kldivergence_loss\n",
        "\n",
        "        optimizer.zero_grad()\n",
        "        total_loss.backward()\n",
        "        optimizer.step()\n",
        "\n",
        "        # measure elapsed time\n",
        "        batch_time.update(time.time() - end)\n",
        "        end = time.time()\n",
        "\n",
        "        # measure accuracy and record loss\n",
        "        batch_size = inputs.size(0)\n",
        "        prec1, prec5 = calc_accuracy(logits, targets, topk=(1, 5))\n",
        "        losses.update(total_loss.item(), batch_size)\n",
        "        classification_losses.update(classification_loss.item(), batch_size)\n",
        "        reconstruction_losses.update(reconstruction_loss.item(), batch_size)\n",
        "        #kldivergence_losses.update(kldivergence_loss.item(), batch_size)\n",
        "        top1.update(prec1[0], batch_size)\n",
        "        top5.update(prec5[0], batch_size)\n",
        "\n",
        "        global_step = (epoch * total_iter) + i + 1\n",
        "        writer.add_scalar('train/loss/total', losses.val, global_step)\n",
        "        writer.add_scalar('train/loss/cross-entropy', classification_losses.val, global_step)\n",
        "        writer.add_scalar('train/loss/mse', reconstruction_losses.val, global_step)\n",
        "        #writer.add_scalar('train/loss/kld', kldivergence_losses.val, global_step)\n",
        "\n",
        "        writer.add_scalar('train/accuracy/top1', top1.val, global_step)\n",
        "        writer.add_scalar('train/accuracy/top5', top5.val, global_step)\n",
        "\n",
        "        if i % 50 == 0:\n",
        "            print('Epoch {0} [{1}/{2}]\\t'\n",
        "                'Time {batch_time.val:.3f} ({batch_time.avg:.3f})\\t'\n",
        "                'Data {data_time.val:.3f} ({data_time.avg:.3f})\\t'\n",
        "                'Loss {loss.val:.4f} ({loss.avg:.4f})\\t'\n",
        "                'C Loss {closs.val:.4f} ({closs.avg:.4f})\\t'\n",
        "                'R Loss {rloss.val:.4f} ({rloss.avg:.4f})\\t'\n",
        "                'Prec@1 {top1.val:.3f} ({top1.avg:.3f})\\t'\n",
        "                'Prec@5 {top5.val:.3f} ({top5.avg:.3f})'.format(\n",
        "                epoch + 1, i + 1, total_iter, \n",
        "                batch_time=batch_time, data_time=data_time, loss=losses,\n",
        "                closs=classification_losses, rloss=reconstruction_losses,\n",
        "                top1=top1, top5=top5)\n",
        "            )\n",
        "\n",
        "            visualize(inputs, reconstruction, writer, train=True, step=global_step)"
      ],
      "execution_count": 0,
      "outputs": []
    },
    {
      "cell_type": "code",
      "metadata": {
        "id": "K3XLL3PA5BzU",
        "colab_type": "code",
        "colab": {}
      },
      "source": [
        "@torch.no_grad()\n",
        "def validate(loader, model, optimizer, criterion, writer, epoch=0):\n",
        "    batch_time = AverageMeter()\n",
        "    data_time = AverageMeter()\n",
        "    losses = AverageMeter()\n",
        "    classification_losses = AverageMeter()\n",
        "    reconstruction_losses = AverageMeter()\n",
        "    top1 = AverageMeter()\n",
        "    top5 = AverageMeter()\n",
        "\n",
        "    model.eval()\n",
        "\n",
        "    total_iter = len(loader)\n",
        "    end = time.time()\n",
        "    for i, (inputs, targets) in enumerate(loader):\n",
        "        logits, reconstruction = model(inputs)\n",
        "\n",
        "        classification_criterion, reconstruction_criterion = criterion\n",
        "        classification_loss = classification_criterion(logits, targets)\n",
        "        reconstruction_loss = reconstruction_criterion(reconstruction, inputs)\n",
        "        total_loss = classification_loss + reconstruction_loss\n",
        "\n",
        "        # measure elapsed time\n",
        "        batch_time.update(time.time() - end)\n",
        "        end = time.time()\n",
        "\n",
        "        # measure accuracy and record loss\n",
        "        batch_size = inputs.size(0)\n",
        "        prec1, prec5 = calc_accuracy(logits, targets, topk=(1, 5))\n",
        "        losses.update(total_loss.item(), batch_size)\n",
        "        classification_losses.update(classification_loss.item(), batch_size)\n",
        "        reconstruction_losses.update(reconstruction_loss.item(), batch_size)\n",
        "        top1.update(prec1[0], batch_size)\n",
        "        top5.update(prec5[0], batch_size)\n",
        "\n",
        "        global_step = (epoch * total_iter) + i + 1\n",
        "        writer.add_scalar('val/loss/total', losses.val, global_step)\n",
        "        writer.add_scalar('val/loss/cross-entropy', classification_losses.val, global_step)\n",
        "        writer.add_scalar('val/loss/mse', reconstruction_losses.val, global_step)\n",
        "\n",
        "        writer.add_scalar('val/accuracy/top1', top1.val, global_step)\n",
        "        writer.add_scalar('val/accuracy/top5', top5.val, global_step)\n",
        "\n",
        "        if i % 200 == 0:\n",
        "            #print(reconstruction.shape)\n",
        "            #print(reconstruction[0].detach().numpy().shape)\n",
        "            img = np.squeeze(reconstruction[0].detach().numpy())\n",
        "            #print(np.squeeze(images[1]).shape)\n",
        "            fig = plt.figure(figsize = (5,5)) \n",
        "            ax = fig.add_subplot(111)\n",
        "            ax.imshow(img, cmap='gray')\n",
        "        if i % 50 == 0:\n",
        "            print('Test [{0}/{1}]\\t'\n",
        "                'Time {batch_time.val:.3f} ({batch_time.avg:.3f})\\t'\n",
        "                'Data {data_time.val:.3f} ({data_time.avg:.3f})\\t'\n",
        "                'Loss {loss.val:.4f} ({loss.avg:.4f})\\t'\n",
        "                'C Loss {closs.val:.4f} ({closs.avg:.4f})\\t'\n",
        "                'R Loss {rloss.val:.4f} ({rloss.avg:.4f})\\t'\n",
        "                'Prec@1 {top1.val:.3f} ({top1.avg:.3f})\\t'\n",
        "                'Prec@5 {top5.val:.3f} ({top5.avg:.3f})'.format(\n",
        "                i + 1, total_iter, \n",
        "                batch_time=batch_time, data_time=data_time, loss=losses,\n",
        "                closs=classification_losses, rloss=reconstruction_losses,\n",
        "                top1=top1, top5=top5)\n",
        "            )\n",
        "\n",
        "            visualize(inputs, reconstruction, writer, train=False, step=global_step)\n",
        "    print('***\\t'\n",
        "        'Loss {loss.avg:.4f}\\t'\n",
        "        'Prec@1 {top1.avg:.3f}\\t'\n",
        "        'Prec@5 {top5.avg:.3f}'.format(\n",
        "            loss=losses, top1=top1, top5=top5\n",
        "        )\n",
        "    )"
      ],
      "execution_count": 0,
      "outputs": []
    },
    {
      "cell_type": "code",
      "metadata": {
        "id": "O2m6WktZ5Noy",
        "colab_type": "code",
        "outputId": "30d33664-9788-4d48-ac88-a6a3cbafcb94",
        "colab": {
          "base_uri": "https://localhost:8080/",
          "height": 1000
        }
      },
      "source": [
        "max_epoch = 10\n",
        "batch_size = 64\n",
        "learning_rate = 1e-3\n",
        "summary_name = './runs/{}'.format(\"res\")\n",
        "\n",
        "writer = SummaryWriter(log_dir=summary_name, comment='epoch={} batch={} lr={}'.format(max_epoch, batch_size, learning_rate))\n",
        "\n",
        "transform_train = torchvision.transforms.Compose([\n",
        "    torchvision.transforms.RandomAffine(45, translate=(0.1, 0.1), scale=(0.5, 2.0)),\n",
        "    torchvision.transforms.ToTensor()\n",
        "])\n",
        "\n",
        "transform_val = torchvision.transforms.Compose([\n",
        "    torchvision.transforms.ToTensor()\n",
        "])\n",
        "\n",
        "trainset = MNIST('./data/mnist', train=True, transform=transform_train, download=True)\n",
        "testset = MNIST('./data/mnist', train=False, transform=transform_val)\n",
        "\n",
        "train_loader = torch.utils.data.DataLoader(trainset, batch_size=batch_size, shuffle=True)\n",
        "test_loader = torch.utils.data.DataLoader(testset, batch_size=batch_size, shuffle=False)\n",
        "\n",
        "#model = Autoencoder(784, 128, 10)\n",
        "model = ConvAutoencoder(64, 10)\n",
        "# optimizer = optim.SGD(model.parameters(), lr=learning_rate, momentum=0.9, nesterov=True)\n",
        "optimizer = optim.Adam(model.parameters(), lr=learning_rate, amsgrad=True)\n",
        "# optimizer = optim.Adadelta(model.parameters(), lr=learning_rate)\n",
        "\n",
        "reconstruction_criterion = nn.MSELoss()\n",
        "classification_criterion = nn.CrossEntropyLoss()\n",
        "\n",
        "criterion = (classification_criterion, reconstruction_criterion)\n",
        "\n",
        "for epoch in range(max_epoch):\n",
        "    train(train_loader, model, optimizer, criterion, writer, epoch)\n",
        "    validate(test_loader, model, optimizer, criterion, writer, epoch)"
      ],
      "execution_count": 0,
      "outputs": [
        {
          "output_type": "stream",
          "text": [
            "/usr/local/lib/python3.6/dist-packages/torch/nn/modules/loss.py:431: UserWarning: Using a target size (torch.Size([64])) that is different to the input size (torch.Size([64, 1])). This will likely lead to incorrect results due to broadcasting. Please ensure they have the same size.\n",
            "  return F.mse_loss(input, target, reduction=self.reduction)\n"
          ],
          "name": "stderr"
        },
        {
          "output_type": "stream",
          "text": [
            "Epoch 1 [1/938]\tTime 0.051 (0.051)\tData 0.000 (0.000)\tLoss 0.3677 (0.3677)\tC Loss 0.3677 (0.3677)\tR Loss 0.2594 (0.2594)\t\n",
            "Epoch 1 [51/938]\tTime 0.045 (0.048)\tData 0.000 (0.000)\tLoss 0.4204 (0.4138)\tC Loss 0.4204 (0.4138)\tR Loss 0.2570 (0.2552)\t\n",
            "Epoch 1 [101/938]\tTime 0.050 (0.047)\tData 0.000 (0.000)\tLoss 0.3612 (0.4079)\tC Loss 0.3612 (0.4079)\tR Loss 0.2581 (0.2552)\t\n",
            "Epoch 1 [151/938]\tTime 0.046 (0.047)\tData 0.000 (0.000)\tLoss 0.3384 (0.4116)\tC Loss 0.3384 (0.4116)\tR Loss 0.2636 (0.2553)\t\n",
            "Epoch 1 [201/938]\tTime 0.046 (0.047)\tData 0.000 (0.000)\tLoss 0.4341 (0.4131)\tC Loss 0.4341 (0.4131)\tR Loss 0.2574 (0.2553)\t\n",
            "Epoch 1 [251/938]\tTime 0.045 (0.047)\tData 0.000 (0.000)\tLoss 0.3639 (0.4124)\tC Loss 0.3639 (0.4124)\tR Loss 0.2523 (0.2551)\t\n",
            "Epoch 1 [301/938]\tTime 0.046 (0.047)\tData 0.000 (0.000)\tLoss 0.4396 (0.4134)\tC Loss 0.4396 (0.4134)\tR Loss 0.2566 (0.2550)\t\n",
            "Epoch 1 [351/938]\tTime 0.045 (0.047)\tData 0.000 (0.000)\tLoss 0.4095 (0.4131)\tC Loss 0.4095 (0.4131)\tR Loss 0.2516 (0.2552)\t\n",
            "Epoch 1 [401/938]\tTime 0.046 (0.047)\tData 0.000 (0.000)\tLoss 0.4308 (0.4132)\tC Loss 0.4308 (0.4132)\tR Loss 0.2568 (0.2552)\t\n",
            "Epoch 1 [451/938]\tTime 0.045 (0.047)\tData 0.000 (0.000)\tLoss 0.4074 (0.4132)\tC Loss 0.4074 (0.4132)\tR Loss 0.2571 (0.2553)\t\n",
            "Epoch 1 [501/938]\tTime 0.046 (0.047)\tData 0.000 (0.000)\tLoss 0.5079 (0.4130)\tC Loss 0.5079 (0.4130)\tR Loss 0.2545 (0.2552)\t\n",
            "Epoch 1 [551/938]\tTime 0.046 (0.047)\tData 0.000 (0.000)\tLoss 0.5296 (0.4132)\tC Loss 0.5296 (0.4132)\tR Loss 0.2602 (0.2552)\t\n",
            "Epoch 1 [601/938]\tTime 0.049 (0.047)\tData 0.000 (0.000)\tLoss 0.4019 (0.4135)\tC Loss 0.4019 (0.4135)\tR Loss 0.2498 (0.2552)\t\n",
            "Epoch 1 [651/938]\tTime 0.049 (0.047)\tData 0.000 (0.000)\tLoss 0.4105 (0.4132)\tC Loss 0.4105 (0.4132)\tR Loss 0.2589 (0.2552)\t\n",
            "Epoch 1 [701/938]\tTime 0.050 (0.047)\tData 0.000 (0.000)\tLoss 0.3806 (0.4126)\tC Loss 0.3806 (0.4126)\tR Loss 0.2581 (0.2552)\t\n",
            "Epoch 1 [751/938]\tTime 0.053 (0.048)\tData 0.000 (0.000)\tLoss 0.3809 (0.4130)\tC Loss 0.3809 (0.4130)\tR Loss 0.2592 (0.2552)\t\n",
            "Epoch 1 [801/938]\tTime 0.050 (0.048)\tData 0.000 (0.000)\tLoss 0.4215 (0.4131)\tC Loss 0.4215 (0.4131)\tR Loss 0.2589 (0.2552)\t\n",
            "Epoch 1 [851/938]\tTime 0.050 (0.048)\tData 0.000 (0.000)\tLoss 0.3869 (0.4129)\tC Loss 0.3869 (0.4129)\tR Loss 0.2525 (0.2553)\t\n",
            "Epoch 1 [901/938]\tTime 0.049 (0.048)\tData 0.000 (0.000)\tLoss 0.3948 (0.4129)\tC Loss 0.3948 (0.4129)\tR Loss 0.2571 (0.2552)\t\n"
          ],
          "name": "stdout"
        },
        {
          "output_type": "stream",
          "text": [
            "/usr/local/lib/python3.6/dist-packages/torch/nn/modules/loss.py:431: UserWarning: Using a target size (torch.Size([32])) that is different to the input size (torch.Size([32, 1])). This will likely lead to incorrect results due to broadcasting. Please ensure they have the same size.\n",
            "  return F.mse_loss(input, target, reduction=self.reduction)\n"
          ],
          "name": "stderr"
        },
        {
          "output_type": "stream",
          "text": [
            "Test [1/157]\tTime 0.024 (0.024)\tData 0.000 (0.000)\tLoss 0.3858 (0.3858)\tC Loss 0.3858 (0.3858)\tR Loss 0.2728 (0.2728)\t\n",
            "Test [51/157]\tTime 0.024 (0.025)\tData 0.000 (0.000)\tLoss 0.4341 (0.4012)\tC Loss 0.4341 (0.4012)\tR Loss 0.2722 (0.2716)\t\n",
            "Test [101/157]\tTime 0.024 (0.025)\tData 0.000 (0.000)\tLoss 0.4933 (0.4131)\tC Loss 0.4933 (0.4131)\tR Loss 0.2684 (0.2710)\t\n",
            "Test [151/157]\tTime 0.024 (0.025)\tData 0.000 (0.000)\tLoss 0.4363 (0.4144)\tC Loss 0.4363 (0.4144)\tR Loss 0.2699 (0.2703)\t\n"
          ],
          "name": "stdout"
        },
        {
          "output_type": "stream",
          "text": [
            "/usr/local/lib/python3.6/dist-packages/torch/nn/modules/loss.py:431: UserWarning: Using a target size (torch.Size([16])) that is different to the input size (torch.Size([16, 1])). This will likely lead to incorrect results due to broadcasting. Please ensure they have the same size.\n",
            "  return F.mse_loss(input, target, reduction=self.reduction)\n"
          ],
          "name": "stderr"
        },
        {
          "output_type": "stream",
          "text": [
            "Epoch 2 [1/938]\tTime 0.053 (0.053)\tData 0.000 (0.000)\tLoss 0.4117 (0.4117)\tC Loss 0.4117 (0.4117)\tR Loss 0.2566 (0.2566)\t\n",
            "Epoch 2 [51/938]\tTime 0.049 (0.050)\tData 0.000 (0.000)\tLoss 0.4436 (0.4145)\tC Loss 0.4436 (0.4145)\tR Loss 0.2611 (0.2556)\t\n",
            "Epoch 2 [101/938]\tTime 0.048 (0.050)\tData 0.000 (0.000)\tLoss 0.3436 (0.4187)\tC Loss 0.3436 (0.4187)\tR Loss 0.2575 (0.2554)\t\n",
            "Epoch 2 [151/938]\tTime 0.048 (0.050)\tData 0.000 (0.000)\tLoss 0.3701 (0.4182)\tC Loss 0.3701 (0.4182)\tR Loss 0.2547 (0.2554)\t\n",
            "Epoch 2 [201/938]\tTime 0.050 (0.050)\tData 0.000 (0.000)\tLoss 0.4220 (0.4164)\tC Loss 0.4220 (0.4164)\tR Loss 0.2546 (0.2552)\t\n",
            "Epoch 2 [251/938]\tTime 0.052 (0.050)\tData 0.000 (0.000)\tLoss 0.3875 (0.4160)\tC Loss 0.3875 (0.4160)\tR Loss 0.2561 (0.2554)\t\n",
            "Epoch 2 [301/938]\tTime 0.049 (0.050)\tData 0.000 (0.000)\tLoss 0.4331 (0.4141)\tC Loss 0.4331 (0.4141)\tR Loss 0.2490 (0.2553)\t\n",
            "Epoch 2 [351/938]\tTime 0.050 (0.050)\tData 0.000 (0.000)\tLoss 0.3426 (0.4151)\tC Loss 0.3426 (0.4151)\tR Loss 0.2586 (0.2553)\t\n",
            "Epoch 2 [401/938]\tTime 0.049 (0.050)\tData 0.000 (0.000)\tLoss 0.4791 (0.4156)\tC Loss 0.4791 (0.4156)\tR Loss 0.2457 (0.2553)\t\n",
            "Epoch 2 [451/938]\tTime 0.049 (0.050)\tData 0.000 (0.000)\tLoss 0.3697 (0.4150)\tC Loss 0.3697 (0.4150)\tR Loss 0.2557 (0.2553)\t\n",
            "Epoch 2 [501/938]\tTime 0.050 (0.050)\tData 0.000 (0.000)\tLoss 0.3282 (0.4138)\tC Loss 0.3282 (0.4138)\tR Loss 0.2587 (0.2553)\t\n",
            "Epoch 2 [551/938]\tTime 0.049 (0.050)\tData 0.000 (0.000)\tLoss 0.4218 (0.4143)\tC Loss 0.4218 (0.4143)\tR Loss 0.2564 (0.2553)\t\n",
            "Epoch 2 [601/938]\tTime 0.049 (0.050)\tData 0.000 (0.000)\tLoss 0.4131 (0.4139)\tC Loss 0.4131 (0.4139)\tR Loss 0.2596 (0.2553)\t\n",
            "Epoch 2 [651/938]\tTime 0.049 (0.050)\tData 0.000 (0.000)\tLoss 0.4250 (0.4130)\tC Loss 0.4250 (0.4130)\tR Loss 0.2609 (0.2553)\t\n",
            "Epoch 2 [701/938]\tTime 0.051 (0.050)\tData 0.000 (0.000)\tLoss 0.4494 (0.4125)\tC Loss 0.4494 (0.4125)\tR Loss 0.2495 (0.2553)\t\n",
            "Epoch 2 [751/938]\tTime 0.049 (0.050)\tData 0.000 (0.000)\tLoss 0.3731 (0.4119)\tC Loss 0.3731 (0.4119)\tR Loss 0.2577 (0.2553)\t\n",
            "Epoch 2 [801/938]\tTime 0.053 (0.050)\tData 0.000 (0.000)\tLoss 0.3609 (0.4116)\tC Loss 0.3609 (0.4116)\tR Loss 0.2533 (0.2553)\t\n",
            "Epoch 2 [851/938]\tTime 0.049 (0.050)\tData 0.000 (0.000)\tLoss 0.4000 (0.4122)\tC Loss 0.4000 (0.4122)\tR Loss 0.2585 (0.2553)\t\n",
            "Epoch 2 [901/938]\tTime 0.048 (0.050)\tData 0.000 (0.000)\tLoss 0.4821 (0.4123)\tC Loss 0.4821 (0.4123)\tR Loss 0.2495 (0.2554)\t\n",
            "Test [1/157]\tTime 0.024 (0.024)\tData 0.000 (0.000)\tLoss 0.3852 (0.3852)\tC Loss 0.3852 (0.3852)\tR Loss 0.2727 (0.2727)\t\n",
            "Test [51/157]\tTime 0.024 (0.025)\tData 0.000 (0.000)\tLoss 0.4331 (0.4011)\tC Loss 0.4331 (0.4011)\tR Loss 0.2722 (0.2716)\t\n",
            "Test [101/157]\tTime 0.025 (0.025)\tData 0.000 (0.000)\tLoss 0.4932 (0.4132)\tC Loss 0.4932 (0.4132)\tR Loss 0.2684 (0.2709)\t\n",
            "Test [151/157]\tTime 0.024 (0.025)\tData 0.000 (0.000)\tLoss 0.4355 (0.4144)\tC Loss 0.4355 (0.4144)\tR Loss 0.2699 (0.2703)\t\n",
            "Epoch 3 [1/938]\tTime 0.056 (0.056)\tData 0.000 (0.000)\tLoss 0.4444 (0.4444)\tC Loss 0.4444 (0.4444)\tR Loss 0.2608 (0.2608)\t\n",
            "Epoch 3 [51/938]\tTime 0.049 (0.050)\tData 0.000 (0.000)\tLoss 0.3554 (0.4098)\tC Loss 0.3554 (0.4098)\tR Loss 0.2565 (0.2549)\t\n",
            "Epoch 3 [101/938]\tTime 0.048 (0.050)\tData 0.000 (0.000)\tLoss 0.4640 (0.4117)\tC Loss 0.4640 (0.4117)\tR Loss 0.2598 (0.2551)\t\n",
            "Epoch 3 [151/938]\tTime 0.049 (0.050)\tData 0.000 (0.000)\tLoss 0.4628 (0.4124)\tC Loss 0.4628 (0.4124)\tR Loss 0.2525 (0.2550)\t\n",
            "Epoch 3 [201/938]\tTime 0.049 (0.050)\tData 0.000 (0.000)\tLoss 0.4706 (0.4124)\tC Loss 0.4706 (0.4124)\tR Loss 0.2556 (0.2554)\t\n",
            "Epoch 3 [251/938]\tTime 0.052 (0.050)\tData 0.000 (0.000)\tLoss 0.4741 (0.4139)\tC Loss 0.4741 (0.4139)\tR Loss 0.2529 (0.2553)\t\n",
            "Epoch 3 [301/938]\tTime 0.051 (0.050)\tData 0.000 (0.000)\tLoss 0.3545 (0.4116)\tC Loss 0.3545 (0.4116)\tR Loss 0.2552 (0.2552)\t\n",
            "Epoch 3 [351/938]\tTime 0.052 (0.050)\tData 0.000 (0.000)\tLoss 0.4410 (0.4115)\tC Loss 0.4410 (0.4115)\tR Loss 0.2529 (0.2553)\t\n",
            "Epoch 3 [401/938]\tTime 0.050 (0.051)\tData 0.000 (0.000)\tLoss 0.3923 (0.4106)\tC Loss 0.3923 (0.4106)\tR Loss 0.2544 (0.2554)\t\n",
            "Epoch 3 [451/938]\tTime 0.053 (0.051)\tData 0.000 (0.000)\tLoss 0.4216 (0.4116)\tC Loss 0.4216 (0.4116)\tR Loss 0.2519 (0.2554)\t\n",
            "Epoch 3 [501/938]\tTime 0.049 (0.051)\tData 0.000 (0.000)\tLoss 0.4806 (0.4118)\tC Loss 0.4806 (0.4118)\tR Loss 0.2530 (0.2553)\t\n",
            "Epoch 3 [551/938]\tTime 0.051 (0.051)\tData 0.000 (0.000)\tLoss 0.4223 (0.4105)\tC Loss 0.4223 (0.4105)\tR Loss 0.2555 (0.2554)\t\n",
            "Epoch 3 [601/938]\tTime 0.050 (0.051)\tData 0.000 (0.000)\tLoss 0.5353 (0.4111)\tC Loss 0.5353 (0.4111)\tR Loss 0.2610 (0.2554)\t\n",
            "Epoch 3 [651/938]\tTime 0.051 (0.051)\tData 0.000 (0.000)\tLoss 0.3049 (0.4119)\tC Loss 0.3049 (0.4119)\tR Loss 0.2550 (0.2554)\t\n",
            "Epoch 3 [701/938]\tTime 0.051 (0.051)\tData 0.000 (0.000)\tLoss 0.3463 (0.4124)\tC Loss 0.3463 (0.4124)\tR Loss 0.2492 (0.2554)\t\n",
            "Epoch 3 [751/938]\tTime 0.051 (0.051)\tData 0.000 (0.000)\tLoss 0.3725 (0.4124)\tC Loss 0.3725 (0.4124)\tR Loss 0.2543 (0.2554)\t\n",
            "Epoch 3 [801/938]\tTime 0.050 (0.051)\tData 0.000 (0.000)\tLoss 0.4176 (0.4127)\tC Loss 0.4176 (0.4127)\tR Loss 0.2527 (0.2554)\t\n",
            "Epoch 3 [851/938]\tTime 0.049 (0.051)\tData 0.000 (0.000)\tLoss 0.3903 (0.4117)\tC Loss 0.3903 (0.4117)\tR Loss 0.2577 (0.2554)\t\n",
            "Epoch 3 [901/938]\tTime 0.050 (0.051)\tData 0.000 (0.000)\tLoss 0.3998 (0.4122)\tC Loss 0.3998 (0.4122)\tR Loss 0.2542 (0.2553)\t\n",
            "Test [1/157]\tTime 0.024 (0.024)\tData 0.000 (0.000)\tLoss 0.3874 (0.3874)\tC Loss 0.3874 (0.3874)\tR Loss 0.2727 (0.2727)\t\n",
            "Test [51/157]\tTime 0.025 (0.025)\tData 0.000 (0.000)\tLoss 0.4367 (0.4014)\tC Loss 0.4367 (0.4014)\tR Loss 0.2722 (0.2716)\t\n",
            "Test [101/157]\tTime 0.025 (0.025)\tData 0.000 (0.000)\tLoss 0.4938 (0.4132)\tC Loss 0.4938 (0.4132)\tR Loss 0.2684 (0.2709)\t\n",
            "Test [151/157]\tTime 0.025 (0.025)\tData 0.000 (0.000)\tLoss 0.4383 (0.4145)\tC Loss 0.4383 (0.4145)\tR Loss 0.2699 (0.2703)\t\n",
            "Epoch 4 [1/938]\tTime 0.057 (0.057)\tData 0.000 (0.000)\tLoss 0.4969 (0.4969)\tC Loss 0.4969 (0.4969)\tR Loss 0.2584 (0.2584)\t\n",
            "Epoch 4 [51/938]\tTime 0.049 (0.051)\tData 0.000 (0.000)\tLoss 0.4368 (0.4183)\tC Loss 0.4368 (0.4183)\tR Loss 0.2496 (0.2557)\t\n",
            "Epoch 4 [101/938]\tTime 0.049 (0.051)\tData 0.000 (0.000)\tLoss 0.4304 (0.4186)\tC Loss 0.4304 (0.4186)\tR Loss 0.2570 (0.2550)\t\n",
            "Epoch 4 [151/938]\tTime 0.049 (0.051)\tData 0.000 (0.000)\tLoss 0.4631 (0.4179)\tC Loss 0.4631 (0.4179)\tR Loss 0.2587 (0.2551)\t\n",
            "Epoch 4 [201/938]\tTime 0.049 (0.050)\tData 0.000 (0.000)\tLoss 0.4323 (0.4171)\tC Loss 0.4323 (0.4171)\tR Loss 0.2545 (0.2553)\t\n",
            "Epoch 4 [251/938]\tTime 0.049 (0.050)\tData 0.000 (0.000)\tLoss 0.4513 (0.4153)\tC Loss 0.4513 (0.4153)\tR Loss 0.2536 (0.2552)\t\n",
            "Epoch 4 [301/938]\tTime 0.049 (0.050)\tData 0.000 (0.000)\tLoss 0.4285 (0.4145)\tC Loss 0.4285 (0.4145)\tR Loss 0.2557 (0.2553)\t\n",
            "Epoch 4 [351/938]\tTime 0.049 (0.050)\tData 0.000 (0.000)\tLoss 0.3874 (0.4141)\tC Loss 0.3874 (0.4141)\tR Loss 0.2542 (0.2553)\t\n",
            "Epoch 4 [401/938]\tTime 0.049 (0.050)\tData 0.000 (0.000)\tLoss 0.4541 (0.4133)\tC Loss 0.4541 (0.4133)\tR Loss 0.2500 (0.2552)\t\n",
            "Epoch 4 [451/938]\tTime 0.049 (0.050)\tData 0.000 (0.000)\tLoss 0.4186 (0.4133)\tC Loss 0.4186 (0.4133)\tR Loss 0.2568 (0.2553)\t\n",
            "Epoch 4 [501/938]\tTime 0.049 (0.050)\tData 0.000 (0.000)\tLoss 0.4810 (0.4138)\tC Loss 0.4810 (0.4138)\tR Loss 0.2543 (0.2554)\t\n",
            "Epoch 4 [551/938]\tTime 0.051 (0.050)\tData 0.000 (0.000)\tLoss 0.4059 (0.4145)\tC Loss 0.4059 (0.4145)\tR Loss 0.2531 (0.2553)\t\n",
            "Epoch 4 [601/938]\tTime 0.049 (0.050)\tData 0.000 (0.000)\tLoss 0.4429 (0.4140)\tC Loss 0.4429 (0.4140)\tR Loss 0.2554 (0.2554)\t\n",
            "Epoch 4 [651/938]\tTime 0.049 (0.050)\tData 0.000 (0.000)\tLoss 0.3789 (0.4135)\tC Loss 0.3789 (0.4135)\tR Loss 0.2623 (0.2553)\t\n",
            "Epoch 4 [701/938]\tTime 0.049 (0.050)\tData 0.000 (0.000)\tLoss 0.5055 (0.4129)\tC Loss 0.5055 (0.4129)\tR Loss 0.2590 (0.2553)\t\n",
            "Epoch 4 [751/938]\tTime 0.049 (0.050)\tData 0.000 (0.000)\tLoss 0.4429 (0.4126)\tC Loss 0.4429 (0.4126)\tR Loss 0.2499 (0.2553)\t\n",
            "Epoch 4 [801/938]\tTime 0.049 (0.050)\tData 0.000 (0.000)\tLoss 0.4382 (0.4123)\tC Loss 0.4382 (0.4123)\tR Loss 0.2595 (0.2553)\t\n",
            "Epoch 4 [851/938]\tTime 0.050 (0.050)\tData 0.000 (0.000)\tLoss 0.4492 (0.4128)\tC Loss 0.4492 (0.4128)\tR Loss 0.2564 (0.2552)\t\n",
            "Epoch 4 [901/938]\tTime 0.048 (0.050)\tData 0.000 (0.000)\tLoss 0.3625 (0.4122)\tC Loss 0.3625 (0.4122)\tR Loss 0.2591 (0.2553)\t\n",
            "Test [1/157]\tTime 0.024 (0.024)\tData 0.000 (0.000)\tLoss 0.3872 (0.3872)\tC Loss 0.3872 (0.3872)\tR Loss 0.2727 (0.2727)\t\n",
            "Test [51/157]\tTime 0.024 (0.025)\tData 0.000 (0.000)\tLoss 0.4364 (0.4013)\tC Loss 0.4364 (0.4013)\tR Loss 0.2722 (0.2716)\t\n",
            "Test [101/157]\tTime 0.024 (0.025)\tData 0.000 (0.000)\tLoss 0.4938 (0.4132)\tC Loss 0.4938 (0.4132)\tR Loss 0.2684 (0.2709)\t\n",
            "Test [151/157]\tTime 0.027 (0.025)\tData 0.000 (0.000)\tLoss 0.4380 (0.4145)\tC Loss 0.4380 (0.4145)\tR Loss 0.2699 (0.2703)\t\n",
            "Epoch 5 [1/938]\tTime 0.058 (0.058)\tData 0.000 (0.000)\tLoss 0.4103 (0.4103)\tC Loss 0.4103 (0.4103)\tR Loss 0.2574 (0.2574)\t\n",
            "Epoch 5 [51/938]\tTime 0.049 (0.051)\tData 0.000 (0.000)\tLoss 0.2525 (0.4070)\tC Loss 0.2525 (0.4070)\tR Loss 0.2558 (0.2554)\t\n",
            "Epoch 5 [101/938]\tTime 0.050 (0.051)\tData 0.000 (0.000)\tLoss 0.4338 (0.4069)\tC Loss 0.4338 (0.4069)\tR Loss 0.2507 (0.2551)\t\n",
            "Epoch 5 [151/938]\tTime 0.050 (0.051)\tData 0.000 (0.000)\tLoss 0.3841 (0.4109)\tC Loss 0.3841 (0.4109)\tR Loss 0.2508 (0.2549)\t\n",
            "Epoch 5 [201/938]\tTime 0.051 (0.051)\tData 0.000 (0.000)\tLoss 0.4212 (0.4111)\tC Loss 0.4212 (0.4111)\tR Loss 0.2593 (0.2551)\t\n",
            "Epoch 5 [251/938]\tTime 0.052 (0.051)\tData 0.000 (0.000)\tLoss 0.3804 (0.4109)\tC Loss 0.3804 (0.4109)\tR Loss 0.2496 (0.2553)\t\n",
            "Epoch 5 [301/938]\tTime 0.050 (0.051)\tData 0.000 (0.000)\tLoss 0.4765 (0.4121)\tC Loss 0.4765 (0.4121)\tR Loss 0.2514 (0.2554)\t\n",
            "Epoch 5 [351/938]\tTime 0.049 (0.051)\tData 0.000 (0.000)\tLoss 0.4067 (0.4129)\tC Loss 0.4067 (0.4129)\tR Loss 0.2575 (0.2553)\t\n",
            "Epoch 5 [401/938]\tTime 0.050 (0.051)\tData 0.000 (0.000)\tLoss 0.4673 (0.4147)\tC Loss 0.4673 (0.4147)\tR Loss 0.2616 (0.2552)\t\n",
            "Epoch 5 [451/938]\tTime 0.050 (0.051)\tData 0.000 (0.000)\tLoss 0.4811 (0.4143)\tC Loss 0.4811 (0.4143)\tR Loss 0.2483 (0.2553)\t\n",
            "Epoch 5 [501/938]\tTime 0.049 (0.051)\tData 0.000 (0.000)\tLoss 0.4807 (0.4132)\tC Loss 0.4807 (0.4132)\tR Loss 0.2569 (0.2553)\t\n",
            "Epoch 5 [551/938]\tTime 0.049 (0.050)\tData 0.000 (0.000)\tLoss 0.4367 (0.4138)\tC Loss 0.4367 (0.4138)\tR Loss 0.2584 (0.2554)\t\n",
            "Epoch 5 [601/938]\tTime 0.051 (0.050)\tData 0.000 (0.000)\tLoss 0.4182 (0.4131)\tC Loss 0.4182 (0.4131)\tR Loss 0.2556 (0.2554)\t\n",
            "Epoch 5 [651/938]\tTime 0.050 (0.050)\tData 0.000 (0.000)\tLoss 0.4138 (0.4124)\tC Loss 0.4138 (0.4124)\tR Loss 0.2555 (0.2554)\t\n",
            "Epoch 5 [701/938]\tTime 0.052 (0.050)\tData 0.000 (0.000)\tLoss 0.4474 (0.4129)\tC Loss 0.4474 (0.4129)\tR Loss 0.2553 (0.2553)\t\n",
            "Epoch 5 [751/938]\tTime 0.050 (0.051)\tData 0.000 (0.000)\tLoss 0.3374 (0.4120)\tC Loss 0.3374 (0.4120)\tR Loss 0.2577 (0.2553)\t\n",
            "Epoch 5 [801/938]\tTime 0.050 (0.051)\tData 0.000 (0.000)\tLoss 0.3775 (0.4117)\tC Loss 0.3775 (0.4117)\tR Loss 0.2620 (0.2554)\t\n",
            "Epoch 5 [851/938]\tTime 0.049 (0.051)\tData 0.000 (0.000)\tLoss 0.4717 (0.4119)\tC Loss 0.4717 (0.4119)\tR Loss 0.2532 (0.2553)\t\n",
            "Epoch 5 [901/938]\tTime 0.049 (0.051)\tData 0.000 (0.000)\tLoss 0.4119 (0.4119)\tC Loss 0.4119 (0.4119)\tR Loss 0.2609 (0.2554)\t\n",
            "Test [1/157]\tTime 0.024 (0.024)\tData 0.000 (0.000)\tLoss 0.3839 (0.3839)\tC Loss 0.3839 (0.3839)\tR Loss 0.2727 (0.2727)\t\n",
            "Test [51/157]\tTime 0.024 (0.025)\tData 0.000 (0.000)\tLoss 0.4307 (0.4012)\tC Loss 0.4307 (0.4012)\tR Loss 0.2722 (0.2716)\t\n",
            "Test [101/157]\tTime 0.024 (0.025)\tData 0.000 (0.000)\tLoss 0.4929 (0.4133)\tC Loss 0.4929 (0.4133)\tR Loss 0.2684 (0.2709)\t\n",
            "Test [151/157]\tTime 0.024 (0.025)\tData 0.000 (0.000)\tLoss 0.4338 (0.4145)\tC Loss 0.4338 (0.4145)\tR Loss 0.2699 (0.2703)\t\n",
            "Epoch 6 [1/938]\tTime 0.052 (0.052)\tData 0.000 (0.000)\tLoss 0.4106 (0.4106)\tC Loss 0.4106 (0.4106)\tR Loss 0.2528 (0.2528)\t\n",
            "Epoch 6 [51/938]\tTime 0.049 (0.050)\tData 0.000 (0.000)\tLoss 0.3588 (0.3978)\tC Loss 0.3588 (0.3978)\tR Loss 0.2551 (0.2556)\t\n",
            "Epoch 6 [101/938]\tTime 0.049 (0.050)\tData 0.000 (0.000)\tLoss 0.3927 (0.4020)\tC Loss 0.3927 (0.4020)\tR Loss 0.2586 (0.2562)\t\n",
            "Epoch 6 [151/938]\tTime 0.049 (0.050)\tData 0.000 (0.000)\tLoss 0.3981 (0.4047)\tC Loss 0.3981 (0.4047)\tR Loss 0.2564 (0.2560)\t\n",
            "Epoch 6 [201/938]\tTime 0.050 (0.051)\tData 0.000 (0.000)\tLoss 0.4121 (0.4036)\tC Loss 0.4121 (0.4036)\tR Loss 0.2500 (0.2557)\t\n",
            "Epoch 6 [251/938]\tTime 0.050 (0.050)\tData 0.000 (0.000)\tLoss 0.3082 (0.4073)\tC Loss 0.3082 (0.4073)\tR Loss 0.2512 (0.2556)\t\n",
            "Epoch 6 [301/938]\tTime 0.052 (0.051)\tData 0.000 (0.000)\tLoss 0.4284 (0.4089)\tC Loss 0.4284 (0.4089)\tR Loss 0.2577 (0.2555)\t\n",
            "Epoch 6 [351/938]\tTime 0.051 (0.051)\tData 0.000 (0.000)\tLoss 0.4295 (0.4099)\tC Loss 0.4295 (0.4099)\tR Loss 0.2582 (0.2555)\t\n",
            "Epoch 6 [401/938]\tTime 0.051 (0.051)\tData 0.000 (0.000)\tLoss 0.4733 (0.4102)\tC Loss 0.4733 (0.4102)\tR Loss 0.2588 (0.2555)\t\n",
            "Epoch 6 [451/938]\tTime 0.051 (0.051)\tData 0.000 (0.000)\tLoss 0.2898 (0.4101)\tC Loss 0.2898 (0.4101)\tR Loss 0.2524 (0.2554)\t\n",
            "Epoch 6 [501/938]\tTime 0.051 (0.051)\tData 0.000 (0.000)\tLoss 0.3666 (0.4092)\tC Loss 0.3666 (0.4092)\tR Loss 0.2570 (0.2555)\t\n",
            "Epoch 6 [551/938]\tTime 0.050 (0.051)\tData 0.000 (0.000)\tLoss 0.3760 (0.4097)\tC Loss 0.3760 (0.4097)\tR Loss 0.2542 (0.2555)\t\n",
            "Epoch 6 [601/938]\tTime 0.049 (0.051)\tData 0.000 (0.000)\tLoss 0.3876 (0.4109)\tC Loss 0.3876 (0.4109)\tR Loss 0.2612 (0.2555)\t\n",
            "Epoch 6 [651/938]\tTime 0.049 (0.051)\tData 0.000 (0.000)\tLoss 0.4751 (0.4115)\tC Loss 0.4751 (0.4115)\tR Loss 0.2511 (0.2555)\t\n",
            "Epoch 6 [701/938]\tTime 0.050 (0.051)\tData 0.000 (0.000)\tLoss 0.4151 (0.4120)\tC Loss 0.4151 (0.4120)\tR Loss 0.2533 (0.2555)\t\n",
            "Epoch 6 [751/938]\tTime 0.049 (0.051)\tData 0.000 (0.000)\tLoss 0.4731 (0.4118)\tC Loss 0.4731 (0.4118)\tR Loss 0.2500 (0.2555)\t\n",
            "Epoch 6 [801/938]\tTime 0.049 (0.051)\tData 0.000 (0.000)\tLoss 0.3674 (0.4115)\tC Loss 0.3674 (0.4115)\tR Loss 0.2555 (0.2555)\t\n",
            "Epoch 6 [851/938]\tTime 0.050 (0.051)\tData 0.000 (0.000)\tLoss 0.3946 (0.4120)\tC Loss 0.3946 (0.4120)\tR Loss 0.2513 (0.2555)\t\n",
            "Epoch 6 [901/938]\tTime 0.049 (0.051)\tData 0.000 (0.000)\tLoss 0.4091 (0.4120)\tC Loss 0.4091 (0.4120)\tR Loss 0.2583 (0.2555)\t\n",
            "Test [1/157]\tTime 0.024 (0.024)\tData 0.000 (0.000)\tLoss 0.3859 (0.3859)\tC Loss 0.3859 (0.3859)\tR Loss 0.2727 (0.2727)\t\n",
            "Test [51/157]\tTime 0.024 (0.025)\tData 0.000 (0.000)\tLoss 0.4343 (0.4012)\tC Loss 0.4343 (0.4012)\tR Loss 0.2722 (0.2716)\t\n",
            "Test [101/157]\tTime 0.024 (0.025)\tData 0.000 (0.000)\tLoss 0.4934 (0.4131)\tC Loss 0.4934 (0.4131)\tR Loss 0.2684 (0.2709)\t\n",
            "Test [151/157]\tTime 0.024 (0.025)\tData 0.000 (0.000)\tLoss 0.4365 (0.4144)\tC Loss 0.4365 (0.4144)\tR Loss 0.2699 (0.2703)\t\n",
            "Epoch 7 [1/938]\tTime 0.051 (0.051)\tData 0.000 (0.000)\tLoss 0.4673 (0.4673)\tC Loss 0.4673 (0.4673)\tR Loss 0.2530 (0.2530)\t\n",
            "Epoch 7 [51/938]\tTime 0.049 (0.050)\tData 0.000 (0.000)\tLoss 0.4255 (0.4052)\tC Loss 0.4255 (0.4052)\tR Loss 0.2549 (0.2552)\t\n",
            "Epoch 7 [101/938]\tTime 0.050 (0.050)\tData 0.000 (0.000)\tLoss 0.3951 (0.4111)\tC Loss 0.3951 (0.4111)\tR Loss 0.2571 (0.2553)\t\n",
            "Epoch 7 [151/938]\tTime 0.049 (0.050)\tData 0.000 (0.000)\tLoss 0.3960 (0.4137)\tC Loss 0.3960 (0.4137)\tR Loss 0.2503 (0.2554)\t\n",
            "Epoch 7 [201/938]\tTime 0.049 (0.050)\tData 0.000 (0.000)\tLoss 0.4218 (0.4119)\tC Loss 0.4218 (0.4119)\tR Loss 0.2587 (0.2555)\t\n",
            "Epoch 7 [251/938]\tTime 0.048 (0.050)\tData 0.000 (0.000)\tLoss 0.3846 (0.4122)\tC Loss 0.3846 (0.4122)\tR Loss 0.2556 (0.2555)\t\n",
            "Epoch 7 [301/938]\tTime 0.049 (0.050)\tData 0.000 (0.000)\tLoss 0.3861 (0.4115)\tC Loss 0.3861 (0.4115)\tR Loss 0.2598 (0.2554)\t\n",
            "Epoch 7 [351/938]\tTime 0.049 (0.050)\tData 0.000 (0.000)\tLoss 0.3875 (0.4122)\tC Loss 0.3875 (0.4122)\tR Loss 0.2557 (0.2553)\t\n",
            "Epoch 7 [401/938]\tTime 0.049 (0.050)\tData 0.000 (0.000)\tLoss 0.4806 (0.4129)\tC Loss 0.4806 (0.4129)\tR Loss 0.2562 (0.2553)\t\n",
            "Epoch 7 [451/938]\tTime 0.051 (0.050)\tData 0.000 (0.000)\tLoss 0.3476 (0.4129)\tC Loss 0.3476 (0.4129)\tR Loss 0.2560 (0.2554)\t\n",
            "Epoch 7 [501/938]\tTime 0.050 (0.050)\tData 0.000 (0.000)\tLoss 0.3715 (0.4128)\tC Loss 0.3715 (0.4128)\tR Loss 0.2533 (0.2553)\t\n",
            "Epoch 7 [551/938]\tTime 0.052 (0.050)\tData 0.000 (0.000)\tLoss 0.4575 (0.4123)\tC Loss 0.4575 (0.4123)\tR Loss 0.2553 (0.2553)\t\n",
            "Epoch 7 [601/938]\tTime 0.049 (0.050)\tData 0.000 (0.000)\tLoss 0.4203 (0.4120)\tC Loss 0.4203 (0.4120)\tR Loss 0.2600 (0.2553)\t\n",
            "Epoch 7 [651/938]\tTime 0.051 (0.050)\tData 0.000 (0.000)\tLoss 0.4030 (0.4126)\tC Loss 0.4030 (0.4126)\tR Loss 0.2527 (0.2553)\t\n",
            "Epoch 7 [701/938]\tTime 0.049 (0.050)\tData 0.000 (0.000)\tLoss 0.4350 (0.4120)\tC Loss 0.4350 (0.4120)\tR Loss 0.2542 (0.2553)\t\n",
            "Epoch 7 [751/938]\tTime 0.049 (0.050)\tData 0.000 (0.000)\tLoss 0.3977 (0.4119)\tC Loss 0.3977 (0.4119)\tR Loss 0.2478 (0.2553)\t\n",
            "Epoch 7 [801/938]\tTime 0.049 (0.050)\tData 0.000 (0.000)\tLoss 0.4175 (0.4118)\tC Loss 0.4175 (0.4118)\tR Loss 0.2565 (0.2553)\t\n",
            "Epoch 7 [851/938]\tTime 0.049 (0.050)\tData 0.000 (0.000)\tLoss 0.4237 (0.4125)\tC Loss 0.4237 (0.4125)\tR Loss 0.2591 (0.2553)\t\n",
            "Epoch 7 [901/938]\tTime 0.049 (0.050)\tData 0.000 (0.000)\tLoss 0.3865 (0.4123)\tC Loss 0.3865 (0.4123)\tR Loss 0.2569 (0.2553)\t\n",
            "Test [1/157]\tTime 0.023 (0.023)\tData 0.000 (0.000)\tLoss 0.3860 (0.3860)\tC Loss 0.3860 (0.3860)\tR Loss 0.2727 (0.2727)\t\n",
            "Test [51/157]\tTime 0.025 (0.025)\tData 0.000 (0.000)\tLoss 0.4344 (0.4012)\tC Loss 0.4344 (0.4012)\tR Loss 0.2722 (0.2716)\t\n",
            "Test [101/157]\tTime 0.025 (0.025)\tData 0.000 (0.000)\tLoss 0.4934 (0.4131)\tC Loss 0.4934 (0.4131)\tR Loss 0.2684 (0.2709)\t\n",
            "Test [151/157]\tTime 0.024 (0.025)\tData 0.000 (0.000)\tLoss 0.4365 (0.4144)\tC Loss 0.4365 (0.4144)\tR Loss 0.2699 (0.2703)\t\n",
            "Epoch 8 [1/938]\tTime 0.052 (0.052)\tData 0.000 (0.000)\tLoss 0.4292 (0.4292)\tC Loss 0.4292 (0.4292)\tR Loss 0.2509 (0.2509)\t\n",
            "Epoch 8 [51/938]\tTime 0.049 (0.050)\tData 0.000 (0.000)\tLoss 0.4512 (0.4223)\tC Loss 0.4512 (0.4223)\tR Loss 0.2514 (0.2550)\t\n",
            "Epoch 8 [101/938]\tTime 0.049 (0.050)\tData 0.000 (0.000)\tLoss 0.3683 (0.4162)\tC Loss 0.3683 (0.4162)\tR Loss 0.2588 (0.2554)\t\n",
            "Epoch 8 [151/938]\tTime 0.049 (0.050)\tData 0.000 (0.000)\tLoss 0.4126 (0.4145)\tC Loss 0.4126 (0.4145)\tR Loss 0.2598 (0.2556)\t\n",
            "Epoch 8 [201/938]\tTime 0.049 (0.050)\tData 0.000 (0.000)\tLoss 0.3835 (0.4113)\tC Loss 0.3835 (0.4113)\tR Loss 0.2598 (0.2558)\t\n",
            "Epoch 8 [251/938]\tTime 0.048 (0.050)\tData 0.000 (0.000)\tLoss 0.4126 (0.4120)\tC Loss 0.4126 (0.4120)\tR Loss 0.2499 (0.2558)\t\n",
            "Epoch 8 [301/938]\tTime 0.049 (0.050)\tData 0.000 (0.000)\tLoss 0.3857 (0.4107)\tC Loss 0.3857 (0.4107)\tR Loss 0.2536 (0.2558)\t\n",
            "Epoch 8 [351/938]\tTime 0.051 (0.050)\tData 0.000 (0.000)\tLoss 0.4810 (0.4124)\tC Loss 0.4810 (0.4124)\tR Loss 0.2521 (0.2557)\t\n",
            "Epoch 8 [401/938]\tTime 0.049 (0.050)\tData 0.000 (0.000)\tLoss 0.3522 (0.4110)\tC Loss 0.3522 (0.4110)\tR Loss 0.2524 (0.2557)\t\n",
            "Epoch 8 [451/938]\tTime 0.049 (0.050)\tData 0.000 (0.000)\tLoss 0.4522 (0.4118)\tC Loss 0.4522 (0.4118)\tR Loss 0.2576 (0.2557)\t\n",
            "Epoch 8 [501/938]\tTime 0.050 (0.050)\tData 0.000 (0.000)\tLoss 0.3411 (0.4122)\tC Loss 0.3411 (0.4122)\tR Loss 0.2554 (0.2556)\t\n",
            "Epoch 8 [551/938]\tTime 0.049 (0.050)\tData 0.000 (0.000)\tLoss 0.4459 (0.4116)\tC Loss 0.4459 (0.4116)\tR Loss 0.2559 (0.2555)\t\n",
            "Epoch 8 [601/938]\tTime 0.049 (0.050)\tData 0.000 (0.000)\tLoss 0.4684 (0.4115)\tC Loss 0.4684 (0.4115)\tR Loss 0.2594 (0.2555)\t\n",
            "Epoch 8 [651/938]\tTime 0.049 (0.050)\tData 0.000 (0.000)\tLoss 0.3967 (0.4114)\tC Loss 0.3967 (0.4114)\tR Loss 0.2536 (0.2554)\t\n",
            "Epoch 8 [701/938]\tTime 0.049 (0.050)\tData 0.000 (0.000)\tLoss 0.3822 (0.4117)\tC Loss 0.3822 (0.4117)\tR Loss 0.2589 (0.2554)\t\n",
            "Epoch 8 [751/938]\tTime 0.048 (0.050)\tData 0.000 (0.000)\tLoss 0.4066 (0.4116)\tC Loss 0.4066 (0.4116)\tR Loss 0.2591 (0.2555)\t\n",
            "Epoch 8 [801/938]\tTime 0.049 (0.050)\tData 0.000 (0.000)\tLoss 0.4262 (0.4120)\tC Loss 0.4262 (0.4120)\tR Loss 0.2531 (0.2554)\t\n",
            "Epoch 8 [851/938]\tTime 0.049 (0.050)\tData 0.000 (0.000)\tLoss 0.4371 (0.4120)\tC Loss 0.4371 (0.4120)\tR Loss 0.2499 (0.2554)\t\n",
            "Epoch 8 [901/938]\tTime 0.050 (0.050)\tData 0.000 (0.000)\tLoss 0.4154 (0.4122)\tC Loss 0.4154 (0.4122)\tR Loss 0.2542 (0.2554)\t\n",
            "Test [1/157]\tTime 0.024 (0.024)\tData 0.000 (0.000)\tLoss 0.3852 (0.3852)\tC Loss 0.3852 (0.3852)\tR Loss 0.2727 (0.2727)\t\n",
            "Test [51/157]\tTime 0.025 (0.026)\tData 0.000 (0.000)\tLoss 0.4331 (0.4011)\tC Loss 0.4331 (0.4011)\tR Loss 0.2722 (0.2716)\t\n",
            "Test [101/157]\tTime 0.024 (0.025)\tData 0.000 (0.000)\tLoss 0.4932 (0.4132)\tC Loss 0.4932 (0.4132)\tR Loss 0.2684 (0.2709)\t\n",
            "Test [151/157]\tTime 0.024 (0.025)\tData 0.000 (0.000)\tLoss 0.4356 (0.4144)\tC Loss 0.4356 (0.4144)\tR Loss 0.2699 (0.2703)\t\n",
            "Epoch 9 [1/938]\tTime 0.054 (0.054)\tData 0.000 (0.000)\tLoss 0.4688 (0.4688)\tC Loss 0.4688 (0.4688)\tR Loss 0.2543 (0.2543)\t\n",
            "Epoch 9 [51/938]\tTime 0.049 (0.050)\tData 0.000 (0.000)\tLoss 0.4186 (0.4151)\tC Loss 0.4186 (0.4151)\tR Loss 0.2537 (0.2550)\t\n",
            "Epoch 9 [101/938]\tTime 0.049 (0.050)\tData 0.000 (0.000)\tLoss 0.3529 (0.4129)\tC Loss 0.3529 (0.4129)\tR Loss 0.2520 (0.2550)\t\n",
            "Epoch 9 [151/938]\tTime 0.049 (0.050)\tData 0.000 (0.000)\tLoss 0.5121 (0.4160)\tC Loss 0.5121 (0.4160)\tR Loss 0.2551 (0.2549)\t\n",
            "Epoch 9 [201/938]\tTime 0.049 (0.050)\tData 0.000 (0.000)\tLoss 0.4640 (0.4118)\tC Loss 0.4640 (0.4118)\tR Loss 0.2585 (0.2550)\t\n",
            "Epoch 9 [251/938]\tTime 0.049 (0.050)\tData 0.000 (0.000)\tLoss 0.3626 (0.4113)\tC Loss 0.3626 (0.4113)\tR Loss 0.2578 (0.2551)\t\n",
            "Epoch 9 [301/938]\tTime 0.049 (0.050)\tData 0.000 (0.000)\tLoss 0.4082 (0.4116)\tC Loss 0.4082 (0.4116)\tR Loss 0.2596 (0.2550)\t\n",
            "Epoch 9 [351/938]\tTime 0.052 (0.050)\tData 0.000 (0.000)\tLoss 0.3283 (0.4118)\tC Loss 0.3283 (0.4118)\tR Loss 0.2567 (0.2550)\t\n",
            "Epoch 9 [401/938]\tTime 0.050 (0.050)\tData 0.000 (0.000)\tLoss 0.4026 (0.4129)\tC Loss 0.4026 (0.4129)\tR Loss 0.2511 (0.2550)\t\n",
            "Epoch 9 [451/938]\tTime 0.050 (0.050)\tData 0.000 (0.000)\tLoss 0.3872 (0.4118)\tC Loss 0.3872 (0.4118)\tR Loss 0.2619 (0.2551)\t\n",
            "Epoch 9 [501/938]\tTime 0.051 (0.050)\tData 0.000 (0.000)\tLoss 0.4100 (0.4126)\tC Loss 0.4100 (0.4126)\tR Loss 0.2555 (0.2551)\t\n",
            "Epoch 9 [551/938]\tTime 0.051 (0.051)\tData 0.000 (0.000)\tLoss 0.4384 (0.4127)\tC Loss 0.4384 (0.4127)\tR Loss 0.2549 (0.2552)\t\n",
            "Epoch 9 [601/938]\tTime 0.049 (0.051)\tData 0.000 (0.000)\tLoss 0.4188 (0.4128)\tC Loss 0.4188 (0.4128)\tR Loss 0.2526 (0.2552)\t\n",
            "Epoch 9 [651/938]\tTime 0.049 (0.050)\tData 0.000 (0.000)\tLoss 0.3513 (0.4122)\tC Loss 0.3513 (0.4122)\tR Loss 0.2567 (0.2552)\t\n",
            "Epoch 9 [701/938]\tTime 0.051 (0.050)\tData 0.000 (0.000)\tLoss 0.3731 (0.4121)\tC Loss 0.3731 (0.4121)\tR Loss 0.2588 (0.2552)\t\n",
            "Epoch 9 [751/938]\tTime 0.048 (0.050)\tData 0.000 (0.000)\tLoss 0.4353 (0.4122)\tC Loss 0.4353 (0.4122)\tR Loss 0.2569 (0.2552)\t\n",
            "Epoch 9 [801/938]\tTime 0.049 (0.050)\tData 0.000 (0.000)\tLoss 0.4287 (0.4126)\tC Loss 0.4287 (0.4126)\tR Loss 0.2562 (0.2552)\t\n",
            "Epoch 9 [851/938]\tTime 0.051 (0.050)\tData 0.000 (0.000)\tLoss 0.4771 (0.4128)\tC Loss 0.4771 (0.4128)\tR Loss 0.2536 (0.2553)\t\n",
            "Epoch 9 [901/938]\tTime 0.049 (0.050)\tData 0.000 (0.000)\tLoss 0.4207 (0.4129)\tC Loss 0.4207 (0.4129)\tR Loss 0.2535 (0.2553)\t\n",
            "Test [1/157]\tTime 0.025 (0.025)\tData 0.000 (0.000)\tLoss 0.3840 (0.3840)\tC Loss 0.3840 (0.3840)\tR Loss 0.2727 (0.2727)\t\n",
            "Test [51/157]\tTime 0.025 (0.028)\tData 0.000 (0.000)\tLoss 0.4310 (0.4012)\tC Loss 0.4310 (0.4012)\tR Loss 0.2722 (0.2716)\t\n",
            "Test [101/157]\tTime 0.025 (0.027)\tData 0.000 (0.000)\tLoss 0.4929 (0.4133)\tC Loss 0.4929 (0.4133)\tR Loss 0.2684 (0.2709)\t\n",
            "Test [151/157]\tTime 0.025 (0.027)\tData 0.000 (0.000)\tLoss 0.4341 (0.4145)\tC Loss 0.4341 (0.4145)\tR Loss 0.2699 (0.2703)\t\n",
            "Epoch 10 [1/938]\tTime 0.057 (0.057)\tData 0.000 (0.000)\tLoss 0.3758 (0.3758)\tC Loss 0.3758 (0.3758)\tR Loss 0.2587 (0.2587)\t\n",
            "Epoch 10 [51/938]\tTime 0.049 (0.051)\tData 0.000 (0.000)\tLoss 0.3589 (0.4140)\tC Loss 0.3589 (0.4140)\tR Loss 0.2534 (0.2549)\t\n",
            "Epoch 10 [101/938]\tTime 0.050 (0.051)\tData 0.000 (0.000)\tLoss 0.3942 (0.4175)\tC Loss 0.3942 (0.4175)\tR Loss 0.2571 (0.2552)\t\n",
            "Epoch 10 [151/938]\tTime 0.050 (0.051)\tData 0.000 (0.000)\tLoss 0.3842 (0.4179)\tC Loss 0.3842 (0.4179)\tR Loss 0.2599 (0.2552)\t\n",
            "Epoch 10 [201/938]\tTime 0.050 (0.051)\tData 0.000 (0.000)\tLoss 0.3450 (0.4163)\tC Loss 0.3450 (0.4163)\tR Loss 0.2582 (0.2555)\t\n",
            "Epoch 10 [251/938]\tTime 0.052 (0.051)\tData 0.000 (0.000)\tLoss 0.4347 (0.4130)\tC Loss 0.4347 (0.4130)\tR Loss 0.2562 (0.2555)\t\n",
            "Epoch 10 [301/938]\tTime 0.050 (0.051)\tData 0.000 (0.000)\tLoss 0.4431 (0.4134)\tC Loss 0.4431 (0.4134)\tR Loss 0.2573 (0.2554)\t\n",
            "Epoch 10 [351/938]\tTime 0.051 (0.051)\tData 0.000 (0.000)\tLoss 0.4166 (0.4140)\tC Loss 0.4166 (0.4140)\tR Loss 0.2556 (0.2555)\t\n",
            "Epoch 10 [401/938]\tTime 0.050 (0.051)\tData 0.000 (0.000)\tLoss 0.4139 (0.4135)\tC Loss 0.4139 (0.4135)\tR Loss 0.2559 (0.2555)\t\n",
            "Epoch 10 [451/938]\tTime 0.050 (0.051)\tData 0.000 (0.000)\tLoss 0.4689 (0.4129)\tC Loss 0.4689 (0.4129)\tR Loss 0.2553 (0.2555)\t\n",
            "Epoch 10 [501/938]\tTime 0.051 (0.051)\tData 0.000 (0.000)\tLoss 0.4130 (0.4121)\tC Loss 0.4130 (0.4121)\tR Loss 0.2545 (0.2554)\t\n",
            "Epoch 10 [551/938]\tTime 0.050 (0.051)\tData 0.000 (0.000)\tLoss 0.3382 (0.4130)\tC Loss 0.3382 (0.4130)\tR Loss 0.2539 (0.2554)\t\n",
            "Epoch 10 [601/938]\tTime 0.050 (0.051)\tData 0.000 (0.000)\tLoss 0.4033 (0.4139)\tC Loss 0.4033 (0.4139)\tR Loss 0.2510 (0.2554)\t\n",
            "Epoch 10 [651/938]\tTime 0.049 (0.051)\tData 0.000 (0.000)\tLoss 0.4606 (0.4134)\tC Loss 0.4606 (0.4134)\tR Loss 0.2567 (0.2554)\t\n",
            "Epoch 10 [701/938]\tTime 0.050 (0.051)\tData 0.000 (0.000)\tLoss 0.3898 (0.4127)\tC Loss 0.3898 (0.4127)\tR Loss 0.2517 (0.2554)\t\n",
            "Epoch 10 [751/938]\tTime 0.051 (0.051)\tData 0.000 (0.000)\tLoss 0.3110 (0.4128)\tC Loss 0.3110 (0.4128)\tR Loss 0.2514 (0.2554)\t\n",
            "Epoch 10 [801/938]\tTime 0.050 (0.051)\tData 0.000 (0.000)\tLoss 0.3894 (0.4125)\tC Loss 0.3894 (0.4125)\tR Loss 0.2587 (0.2555)\t\n",
            "Epoch 10 [851/938]\tTime 0.049 (0.051)\tData 0.000 (0.000)\tLoss 0.4650 (0.4121)\tC Loss 0.4650 (0.4121)\tR Loss 0.2563 (0.2555)\t\n",
            "Epoch 10 [901/938]\tTime 0.051 (0.051)\tData 0.000 (0.000)\tLoss 0.4557 (0.4123)\tC Loss 0.4557 (0.4123)\tR Loss 0.2503 (0.2554)\t\n",
            "Test [1/157]\tTime 0.024 (0.024)\tData 0.000 (0.000)\tLoss 0.3875 (0.3875)\tC Loss 0.3875 (0.3875)\tR Loss 0.2727 (0.2727)\t\n",
            "Test [51/157]\tTime 0.025 (0.026)\tData 0.000 (0.000)\tLoss 0.4370 (0.4014)\tC Loss 0.4370 (0.4014)\tR Loss 0.2722 (0.2716)\t\n",
            "Test [101/157]\tTime 0.024 (0.025)\tData 0.000 (0.000)\tLoss 0.4939 (0.4132)\tC Loss 0.4939 (0.4132)\tR Loss 0.2684 (0.2709)\t\n",
            "Test [151/157]\tTime 0.024 (0.025)\tData 0.000 (0.000)\tLoss 0.4385 (0.4146)\tC Loss 0.4385 (0.4146)\tR Loss 0.2699 (0.2703)\t\n"
          ],
          "name": "stdout"
        },
        {
          "output_type": "display_data",
          "data": {
            "image/png": "[encoded data removed]",
            "text/plain": [
              "<Figure size 360x360 with 1 Axes>"
            ]
          },
          "metadata": {
            "tags": []
          }
        },
        {
          "output_type": "display_data",
          "data": {
            "image/png": "[encoded data removed]",
            "text/plain": [
              "<Figure size 360x360 with 1 Axes>"
            ]
          },
          "metadata": {
            "tags": []
          }
        },
        {
          "output_type": "display_data",
          "data": {
            "image/png": "[encoded data removed]",
            "text/plain": [
              "<Figure size 360x360 with 1 Axes>"
            ]
          },
          "metadata": {
            "tags": []
          }
        },
        {
          "output_type": "display_data",
          "data": {
            "image/png": "[encoded data removed]",
            "text/plain": [
              "<Figure size 360x360 with 1 Axes>"
            ]
          },
          "metadata": {
            "tags": []
          }
        },
        {
          "output_type": "display_data",
          "data": {
            "image/png": "[encoded data removed]",
            "text/plain": [
              "<Figure size 360x360 with 1 Axes>"
            ]
          },
          "metadata": {
            "tags": []
          }
        },
        {
          "output_type": "display_data",
          "data": {
            "image/png": "[encoded data removed]",
            "text/plain": [
              "<Figure size 360x360 with 1 Axes>"
            ]
          },
          "metadata": {
            "tags": []
          }
        },
        {
          "output_type": "display_data",
          "data": {
            "image/png": "[encoded data removed]",
            "text/plain": [
              "<Figure size 360x360 with 1 Axes>"
            ]
          },
          "metadata": {
            "tags": []
          }
        },
        {
          "output_type": "display_data",
          "data": {
            "image/png": "[encoded data removed]",
            "text/plain": [
              "<Figure size 360x360 with 1 Axes>"
            ]
          },
          "metadata": {
            "tags": []
          }
        },
        {
          "output_type": "display_data",
          "data": {
            "image/png": "[encoded data removed]",
            "text/plain": [
              "<Figure size 360x360 with 1 Axes>"
            ]
          },
          "metadata": {
            "tags": []
          }
        },
        {
          "output_type": "display_data",
          "data": {
            "image/png": "[encoded data removed]",
            "text/plain": [
              "<Figure size 360x360 with 1 Axes>"
            ]
          },
          "metadata": {
            "tags": []
          }
        }
      ]
    },
    {
      "cell_type": "code",
      "metadata": {
        "id": "a8kUtzeQZyZ5",
        "colab_type": "code",
        "outputId": "d988a2bc-1da3-4eae-83db-2bc48a1f8787",
        "colab": {
          "base_uri": "https://localhost:8080/",
          "height": 354
        }
      },
      "source": [
        "for (x, y) in test_loader:\n",
        "    print(x.shape)\n",
        "    #x = x + torch.abs(torch.randn(64, 1, 28, 28))\n",
        "    #logits, reconstruction = model(x)\n",
        "    t = model.encode(x)\n",
        "    #t = t + 2 * torch.randn(64, 64)\n",
        "    t1 = (t[0] + t[2])# / 2\n",
        "    print(t.shape)\n",
        "    reconstruction = model.decode(t1)\n",
        "    #reconstruction = reconstruction# + torch.randn(64, 1, 28, 28) / 5\n",
        "    img = np.squeeze(reconstruction[0].detach().numpy())\n",
        "    fig = plt.figure(figsize = (5,5)) \n",
        "    ax = fig.add_subplot(111)\n",
        "    ax.imshow(img, cmap='gray')\n",
        "    break\n",
        "    "
      ],
      "execution_count": 0,
      "outputs": [
        {
          "output_type": "stream",
          "text": [
            "torch.Size([64, 1, 28, 28])\n",
            "torch.Size([64, 64])\n"
          ],
          "name": "stdout"
        },
        {
          "output_type": "display_data",
          "data": {
            "image/png": "[encoded data removed]",
            "text/plain": [
              "<Figure size 360x360 with 1 Axes>"
            ]
          },
          "metadata": {
            "tags": []
          }
        }
      ]
    },
    {
      "cell_type": "code",
      "metadata": {
        "id": "PQTuWkCf7k7l",
        "colab_type": "code",
        "outputId": "13a50d40-448f-4aa7-de42-60bbecf15b07",
        "colab": {
          "base_uri": "https://localhost:8080/",
          "height": 409
        }
      },
      "source": [
        "t = F.tanh(torch.randn(10,64))\n",
        "a, b = model.classifier(t), model.decoder(t)\n",
        "a, b = model(testset[0])\n",
        "img = np.squeeze(b.detach().numpy())\n",
        "#print(np.squeeze(images[1]).shape)\n",
        "fig = plt.figure(figsize = (5,5)) \n",
        "ax = fig.add_subplot(111)\n",
        "ax.imshow(img, cmap='gray')\n",
        "for ai, bi in zip(a, b):\n",
        "  img = np.squeeze(bi.detach().numpy())\n",
        "  #print(np.squeeze(images[1]).shape)\n",
        "  print(torch.argmax(ai)) \n",
        "  fig = plt.figure(figsize = (5,5)) \n",
        "  ax = fig.add_subplot(111)\n",
        "  ax.imshow(img, cmap='gray')"
      ],
      "execution_count": 0,
      "outputs": [
        {
          "output_type": "stream",
          "text": [
            "/usr/local/lib/python3.6/dist-packages/torch/nn/functional.py:1340: UserWarning: nn.functional.tanh is deprecated. Use torch.tanh instead.\n",
            "  warnings.warn(\"nn.functional.tanh is deprecated. Use torch.tanh instead.\")\n"
          ],
          "name": "stderr"
        },
        {
          "output_type": "error",
          "ename": "TypeError",
          "evalue": "ignored",
          "traceback": [
            "\u001b[0;31m---------------------------------------------------------------------------\u001b[0m",
            "\u001b[0;31mTypeError\u001b[0m                                 Traceback (most recent call last)",
            "\u001b[0;32m<ipython-input-184-a0b95f60e890>\u001b[0m in \u001b[0;36m<module>\u001b[0;34m()\u001b[0m\n\u001b[1;32m      1\u001b[0m \u001b[0mt\u001b[0m \u001b[0;34m=\u001b[0m \u001b[0mF\u001b[0m\u001b[0;34m.\u001b[0m\u001b[0mtanh\u001b[0m\u001b[0;34m(\u001b[0m\u001b[0mtorch\u001b[0m\u001b[0;34m.\u001b[0m\u001b[0mrandn\u001b[0m\u001b[0;34m(\u001b[0m\u001b[0;36m10\u001b[0m\u001b[0;34m,\u001b[0m\u001b[0;36m64\u001b[0m\u001b[0;34m)\u001b[0m\u001b[0;34m)\u001b[0m\u001b[0;34m\u001b[0m\u001b[0;34m\u001b[0m\u001b[0m\n\u001b[1;32m      2\u001b[0m \u001b[0ma\u001b[0m\u001b[0;34m,\u001b[0m \u001b[0mb\u001b[0m \u001b[0;34m=\u001b[0m \u001b[0mmodel\u001b[0m\u001b[0;34m.\u001b[0m\u001b[0mclassifier\u001b[0m\u001b[0;34m(\u001b[0m\u001b[0mt\u001b[0m\u001b[0;34m)\u001b[0m\u001b[0;34m,\u001b[0m \u001b[0mmodel\u001b[0m\u001b[0;34m.\u001b[0m\u001b[0mdecoder\u001b[0m\u001b[0;34m(\u001b[0m\u001b[0mt\u001b[0m\u001b[0;34m)\u001b[0m\u001b[0;34m\u001b[0m\u001b[0;34m\u001b[0m\u001b[0m\n\u001b[0;32m----> 3\u001b[0;31m \u001b[0ma\u001b[0m\u001b[0;34m,\u001b[0m \u001b[0mb\u001b[0m \u001b[0;34m=\u001b[0m \u001b[0mmodel\u001b[0m\u001b[0;34m(\u001b[0m\u001b[0mtestset\u001b[0m\u001b[0;34m[\u001b[0m\u001b[0;36m0\u001b[0m\u001b[0;34m]\u001b[0m\u001b[0;34m)\u001b[0m\u001b[0;34m\u001b[0m\u001b[0;34m\u001b[0m\u001b[0m\n\u001b[0m\u001b[1;32m      4\u001b[0m \u001b[0mimg\u001b[0m \u001b[0;34m=\u001b[0m \u001b[0mnp\u001b[0m\u001b[0;34m.\u001b[0m\u001b[0msqueeze\u001b[0m\u001b[0;34m(\u001b[0m\u001b[0mb\u001b[0m\u001b[0;34m.\u001b[0m\u001b[0mdetach\u001b[0m\u001b[0;34m(\u001b[0m\u001b[0;34m)\u001b[0m\u001b[0;34m.\u001b[0m\u001b[0mnumpy\u001b[0m\u001b[0;34m(\u001b[0m\u001b[0;34m)\u001b[0m\u001b[0;34m)\u001b[0m\u001b[0;34m\u001b[0m\u001b[0;34m\u001b[0m\u001b[0m\n\u001b[1;32m      5\u001b[0m \u001b[0;31m#print(np.squeeze(images[1]).shape)\u001b[0m\u001b[0;34m\u001b[0m\u001b[0;34m\u001b[0m\u001b[0;34m\u001b[0m\u001b[0m\n",
            "\u001b[0;32m/usr/local/lib/python3.6/dist-packages/torch/nn/modules/module.py\u001b[0m in \u001b[0;36m__call__\u001b[0;34m(self, *input, **kwargs)\u001b[0m\n\u001b[1;32m    539\u001b[0m             \u001b[0mresult\u001b[0m \u001b[0;34m=\u001b[0m \u001b[0mself\u001b[0m\u001b[0;34m.\u001b[0m\u001b[0m_slow_forward\u001b[0m\u001b[0;34m(\u001b[0m\u001b[0;34m*\u001b[0m\u001b[0minput\u001b[0m\u001b[0;34m,\u001b[0m \u001b[0;34m**\u001b[0m\u001b[0mkwargs\u001b[0m\u001b[0;34m)\u001b[0m\u001b[0;34m\u001b[0m\u001b[0;34m\u001b[0m\u001b[0m\n\u001b[1;32m    540\u001b[0m         \u001b[0;32melse\u001b[0m\u001b[0;34m:\u001b[0m\u001b[0;34m\u001b[0m\u001b[0;34m\u001b[0m\u001b[0m\n\u001b[0;32m--> 541\u001b[0;31m             \u001b[0mresult\u001b[0m \u001b[0;34m=\u001b[0m \u001b[0mself\u001b[0m\u001b[0;34m.\u001b[0m\u001b[0mforward\u001b[0m\u001b[0;34m(\u001b[0m\u001b[0;34m*\u001b[0m\u001b[0minput\u001b[0m\u001b[0;34m,\u001b[0m \u001b[0;34m**\u001b[0m\u001b[0mkwargs\u001b[0m\u001b[0;34m)\u001b[0m\u001b[0;34m\u001b[0m\u001b[0;34m\u001b[0m\u001b[0m\n\u001b[0m\u001b[1;32m    542\u001b[0m         \u001b[0;32mfor\u001b[0m \u001b[0mhook\u001b[0m \u001b[0;32min\u001b[0m \u001b[0mself\u001b[0m\u001b[0;34m.\u001b[0m\u001b[0m_forward_hooks\u001b[0m\u001b[0;34m.\u001b[0m\u001b[0mvalues\u001b[0m\u001b[0;34m(\u001b[0m\u001b[0;34m)\u001b[0m\u001b[0;34m:\u001b[0m\u001b[0;34m\u001b[0m\u001b[0;34m\u001b[0m\u001b[0m\n\u001b[1;32m    543\u001b[0m             \u001b[0mhook_result\u001b[0m \u001b[0;34m=\u001b[0m \u001b[0mhook\u001b[0m\u001b[0;34m(\u001b[0m\u001b[0mself\u001b[0m\u001b[0;34m,\u001b[0m \u001b[0minput\u001b[0m\u001b[0;34m,\u001b[0m \u001b[0mresult\u001b[0m\u001b[0;34m)\u001b[0m\u001b[0;34m\u001b[0m\u001b[0;34m\u001b[0m\u001b[0m\n",
            "\u001b[0;32m<ipython-input-169-674a768da030>\u001b[0m in \u001b[0;36mforward\u001b[0;34m(self, x)\u001b[0m\n\u001b[1;32m     50\u001b[0m         \u001b[0;31m#h = h.flatten(start_dim=1)\u001b[0m\u001b[0;34m\u001b[0m\u001b[0;34m\u001b[0m\u001b[0;34m\u001b[0m\u001b[0m\n\u001b[1;32m     51\u001b[0m         \u001b[0;31m#z = self.encoder3(h)\u001b[0m\u001b[0;34m\u001b[0m\u001b[0;34m\u001b[0m\u001b[0;34m\u001b[0m\u001b[0m\n\u001b[0;32m---> 52\u001b[0;31m         \u001b[0mz\u001b[0m \u001b[0;34m=\u001b[0m \u001b[0mself\u001b[0m\u001b[0;34m.\u001b[0m\u001b[0mencoder\u001b[0m\u001b[0;34m(\u001b[0m\u001b[0mx\u001b[0m\u001b[0;34m)\u001b[0m\u001b[0;34m\u001b[0m\u001b[0;34m\u001b[0m\u001b[0m\n\u001b[0m\u001b[1;32m     53\u001b[0m         \u001b[0;31m#mu, logvar = self.encode(x)\u001b[0m\u001b[0;34m\u001b[0m\u001b[0;34m\u001b[0m\u001b[0;34m\u001b[0m\u001b[0m\n\u001b[1;32m     54\u001b[0m         \u001b[0;31m#z = self.reparameterize(mu, logvar)\u001b[0m\u001b[0;34m\u001b[0m\u001b[0;34m\u001b[0m\u001b[0;34m\u001b[0m\u001b[0m\n",
            "\u001b[0;32m/usr/local/lib/python3.6/dist-packages/torch/nn/modules/module.py\u001b[0m in \u001b[0;36m__call__\u001b[0;34m(self, *input, **kwargs)\u001b[0m\n\u001b[1;32m    539\u001b[0m             \u001b[0mresult\u001b[0m \u001b[0;34m=\u001b[0m \u001b[0mself\u001b[0m\u001b[0;34m.\u001b[0m\u001b[0m_slow_forward\u001b[0m\u001b[0;34m(\u001b[0m\u001b[0;34m*\u001b[0m\u001b[0minput\u001b[0m\u001b[0;34m,\u001b[0m \u001b[0;34m**\u001b[0m\u001b[0mkwargs\u001b[0m\u001b[0;34m)\u001b[0m\u001b[0;34m\u001b[0m\u001b[0;34m\u001b[0m\u001b[0m\n\u001b[1;32m    540\u001b[0m         \u001b[0;32melse\u001b[0m\u001b[0;34m:\u001b[0m\u001b[0;34m\u001b[0m\u001b[0;34m\u001b[0m\u001b[0m\n\u001b[0;32m--> 541\u001b[0;31m             \u001b[0mresult\u001b[0m \u001b[0;34m=\u001b[0m \u001b[0mself\u001b[0m\u001b[0;34m.\u001b[0m\u001b[0mforward\u001b[0m\u001b[0;34m(\u001b[0m\u001b[0;34m*\u001b[0m\u001b[0minput\u001b[0m\u001b[0;34m,\u001b[0m \u001b[0;34m**\u001b[0m\u001b[0mkwargs\u001b[0m\u001b[0;34m)\u001b[0m\u001b[0;34m\u001b[0m\u001b[0;34m\u001b[0m\u001b[0m\n\u001b[0m\u001b[1;32m    542\u001b[0m         \u001b[0;32mfor\u001b[0m \u001b[0mhook\u001b[0m \u001b[0;32min\u001b[0m \u001b[0mself\u001b[0m\u001b[0;34m.\u001b[0m\u001b[0m_forward_hooks\u001b[0m\u001b[0;34m.\u001b[0m\u001b[0mvalues\u001b[0m\u001b[0;34m(\u001b[0m\u001b[0;34m)\u001b[0m\u001b[0;34m:\u001b[0m\u001b[0;34m\u001b[0m\u001b[0;34m\u001b[0m\u001b[0m\n\u001b[1;32m    543\u001b[0m             \u001b[0mhook_result\u001b[0m \u001b[0;34m=\u001b[0m \u001b[0mhook\u001b[0m\u001b[0;34m(\u001b[0m\u001b[0mself\u001b[0m\u001b[0;34m,\u001b[0m \u001b[0minput\u001b[0m\u001b[0;34m,\u001b[0m \u001b[0mresult\u001b[0m\u001b[0;34m)\u001b[0m\u001b[0;34m\u001b[0m\u001b[0;34m\u001b[0m\u001b[0m\n",
            "\u001b[0;32m/usr/local/lib/python3.6/dist-packages/torch/nn/modules/container.py\u001b[0m in \u001b[0;36mforward\u001b[0;34m(self, input)\u001b[0m\n\u001b[1;32m     90\u001b[0m     \u001b[0;32mdef\u001b[0m \u001b[0mforward\u001b[0m\u001b[0;34m(\u001b[0m\u001b[0mself\u001b[0m\u001b[0;34m,\u001b[0m \u001b[0minput\u001b[0m\u001b[0;34m)\u001b[0m\u001b[0;34m:\u001b[0m\u001b[0;34m\u001b[0m\u001b[0;34m\u001b[0m\u001b[0m\n\u001b[1;32m     91\u001b[0m         \u001b[0;32mfor\u001b[0m \u001b[0mmodule\u001b[0m \u001b[0;32min\u001b[0m \u001b[0mself\u001b[0m\u001b[0;34m.\u001b[0m\u001b[0m_modules\u001b[0m\u001b[0;34m.\u001b[0m\u001b[0mvalues\u001b[0m\u001b[0;34m(\u001b[0m\u001b[0;34m)\u001b[0m\u001b[0;34m:\u001b[0m\u001b[0;34m\u001b[0m\u001b[0;34m\u001b[0m\u001b[0m\n\u001b[0;32m---> 92\u001b[0;31m             \u001b[0minput\u001b[0m \u001b[0;34m=\u001b[0m \u001b[0mmodule\u001b[0m\u001b[0;34m(\u001b[0m\u001b[0minput\u001b[0m\u001b[0;34m)\u001b[0m\u001b[0;34m\u001b[0m\u001b[0;34m\u001b[0m\u001b[0m\n\u001b[0m\u001b[1;32m     93\u001b[0m         \u001b[0;32mreturn\u001b[0m \u001b[0minput\u001b[0m\u001b[0;34m\u001b[0m\u001b[0;34m\u001b[0m\u001b[0m\n\u001b[1;32m     94\u001b[0m \u001b[0;34m\u001b[0m\u001b[0m\n",
            "\u001b[0;32m/usr/local/lib/python3.6/dist-packages/torch/nn/modules/module.py\u001b[0m in \u001b[0;36m__call__\u001b[0;34m(self, *input, **kwargs)\u001b[0m\n\u001b[1;32m    539\u001b[0m             \u001b[0mresult\u001b[0m \u001b[0;34m=\u001b[0m \u001b[0mself\u001b[0m\u001b[0;34m.\u001b[0m\u001b[0m_slow_forward\u001b[0m\u001b[0;34m(\u001b[0m\u001b[0;34m*\u001b[0m\u001b[0minput\u001b[0m\u001b[0;34m,\u001b[0m \u001b[0;34m**\u001b[0m\u001b[0mkwargs\u001b[0m\u001b[0;34m)\u001b[0m\u001b[0;34m\u001b[0m\u001b[0;34m\u001b[0m\u001b[0m\n\u001b[1;32m    540\u001b[0m         \u001b[0;32melse\u001b[0m\u001b[0;34m:\u001b[0m\u001b[0;34m\u001b[0m\u001b[0;34m\u001b[0m\u001b[0m\n\u001b[0;32m--> 541\u001b[0;31m             \u001b[0mresult\u001b[0m \u001b[0;34m=\u001b[0m \u001b[0mself\u001b[0m\u001b[0;34m.\u001b[0m\u001b[0mforward\u001b[0m\u001b[0;34m(\u001b[0m\u001b[0;34m*\u001b[0m\u001b[0minput\u001b[0m\u001b[0;34m,\u001b[0m \u001b[0;34m**\u001b[0m\u001b[0mkwargs\u001b[0m\u001b[0;34m)\u001b[0m\u001b[0;34m\u001b[0m\u001b[0;34m\u001b[0m\u001b[0m\n\u001b[0m\u001b[1;32m    542\u001b[0m         \u001b[0;32mfor\u001b[0m \u001b[0mhook\u001b[0m \u001b[0;32min\u001b[0m \u001b[0mself\u001b[0m\u001b[0;34m.\u001b[0m\u001b[0m_forward_hooks\u001b[0m\u001b[0;34m.\u001b[0m\u001b[0mvalues\u001b[0m\u001b[0;34m(\u001b[0m\u001b[0;34m)\u001b[0m\u001b[0;34m:\u001b[0m\u001b[0;34m\u001b[0m\u001b[0;34m\u001b[0m\u001b[0m\n\u001b[1;32m    543\u001b[0m             \u001b[0mhook_result\u001b[0m \u001b[0;34m=\u001b[0m \u001b[0mhook\u001b[0m\u001b[0;34m(\u001b[0m\u001b[0mself\u001b[0m\u001b[0;34m,\u001b[0m \u001b[0minput\u001b[0m\u001b[0;34m,\u001b[0m \u001b[0mresult\u001b[0m\u001b[0;34m)\u001b[0m\u001b[0;34m\u001b[0m\u001b[0;34m\u001b[0m\u001b[0m\n",
            "\u001b[0;32m/usr/local/lib/python3.6/dist-packages/torch/nn/modules/conv.py\u001b[0m in \u001b[0;36mforward\u001b[0;34m(self, input)\u001b[0m\n\u001b[1;32m    343\u001b[0m \u001b[0;34m\u001b[0m\u001b[0m\n\u001b[1;32m    344\u001b[0m     \u001b[0;32mdef\u001b[0m \u001b[0mforward\u001b[0m\u001b[0;34m(\u001b[0m\u001b[0mself\u001b[0m\u001b[0;34m,\u001b[0m \u001b[0minput\u001b[0m\u001b[0;34m)\u001b[0m\u001b[0;34m:\u001b[0m\u001b[0;34m\u001b[0m\u001b[0;34m\u001b[0m\u001b[0m\n\u001b[0;32m--> 345\u001b[0;31m         \u001b[0;32mreturn\u001b[0m \u001b[0mself\u001b[0m\u001b[0;34m.\u001b[0m\u001b[0mconv2d_forward\u001b[0m\u001b[0;34m(\u001b[0m\u001b[0minput\u001b[0m\u001b[0;34m,\u001b[0m \u001b[0mself\u001b[0m\u001b[0;34m.\u001b[0m\u001b[0mweight\u001b[0m\u001b[0;34m)\u001b[0m\u001b[0;34m\u001b[0m\u001b[0;34m\u001b[0m\u001b[0m\n\u001b[0m\u001b[1;32m    346\u001b[0m \u001b[0;34m\u001b[0m\u001b[0m\n\u001b[1;32m    347\u001b[0m \u001b[0;32mclass\u001b[0m \u001b[0mConv3d\u001b[0m\u001b[0;34m(\u001b[0m\u001b[0m_ConvNd\u001b[0m\u001b[0;34m)\u001b[0m\u001b[0;34m:\u001b[0m\u001b[0;34m\u001b[0m\u001b[0;34m\u001b[0m\u001b[0m\n",
            "\u001b[0;32m/usr/local/lib/python3.6/dist-packages/torch/nn/modules/conv.py\u001b[0m in \u001b[0;36mconv2d_forward\u001b[0;34m(self, input, weight)\u001b[0m\n\u001b[1;32m    340\u001b[0m                             _pair(0), self.dilation, self.groups)\n\u001b[1;32m    341\u001b[0m         return F.conv2d(input, weight, self.bias, self.stride,\n\u001b[0;32m--> 342\u001b[0;31m                         self.padding, self.dilation, self.groups)\n\u001b[0m\u001b[1;32m    343\u001b[0m \u001b[0;34m\u001b[0m\u001b[0m\n\u001b[1;32m    344\u001b[0m     \u001b[0;32mdef\u001b[0m \u001b[0mforward\u001b[0m\u001b[0;34m(\u001b[0m\u001b[0mself\u001b[0m\u001b[0;34m,\u001b[0m \u001b[0minput\u001b[0m\u001b[0;34m)\u001b[0m\u001b[0;34m:\u001b[0m\u001b[0;34m\u001b[0m\u001b[0;34m\u001b[0m\u001b[0m\n",
            "\u001b[0;31mTypeError\u001b[0m: conv2d(): argument 'input' (position 1) must be Tensor, not tuple"
          ]
        }
      ]
    },
    {
      "cell_type": "code",
      "metadata": {
        "id": "a8yZWvezUqg6",
        "colab_type": "code",
        "colab": {}
      },
      "source": [
        ""
      ],
      "execution_count": 0,
      "outputs": []
    }
  ]
}